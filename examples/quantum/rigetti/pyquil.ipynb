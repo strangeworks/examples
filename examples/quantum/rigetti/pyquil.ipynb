{
  "nbformat": 4,
  "nbformat_minor": 0,
  "metadata": {
    "colab": {
      "provenance": [],
      "authorship_tag": "ABX9TyMwe9jm0G84LD/xzI3xZh1E",
      "include_colab_link": true
    },
    "kernelspec": {
      "name": "python3",
      "display_name": "Python 3"
    },
    "language_info": {
      "name": "python"
    }
  },
  "cells": [
    {
      "cell_type": "markdown",
      "metadata": {
        "id": "view-in-github",
        "colab_type": "text"
      },
      "source": [
        "<a href=\"https://colab.research.google.com/github/strangeworks/examples/blob/main/examples/quantum/rigetti/pyquil.ipynb\" target=\"_parent\"><img src=\"https://colab.research.google.com/assets/colab-badge.svg\" alt=\"Open In Colab\"/></a>"
      ]
    },
    {
      "cell_type": "markdown",
      "source": [
        "<a href=\"https://colab.research.google.com/github/strangeworks/examples/blob/master/examples/quantum/rigetti/pyquil.ipynb\"><img src=\"https://colab.research.google.com/assets/colab-badge.svg\" /></a>"
      ],
      "metadata": {
        "id": "AXxfE71IQ4_L"
      }
    },
    {
      "cell_type": "markdown",
      "source": [
        "# Installation\n",
        "\n",
        "(If running in Colab you may need to restart the sessions after installation)"
      ],
      "metadata": {
        "id": "gMfcUhavNaVT"
      }
    },
    {
      "cell_type": "code",
      "source": [
        "%pip install -q -U pip && pip install strangeworks-rigetti"
      ],
      "metadata": {
        "colab": {
          "base_uri": "https://localhost:8080/"
        },
        "id": "oTnxLjEPNcjQ",
        "outputId": "0a9018d1-0b35-4177-9fe8-a75baa9e261f"
      },
      "execution_count": 1,
      "outputs": [
        {
          "output_type": "stream",
          "name": "stdout",
          "text": [
            "Collecting strangeworks-rigetti\n",
            "  Downloading strangeworks_rigetti-0.2.19-py3-none-any.whl.metadata (1.2 kB)\n",
            "Collecting pyquil==4.14.3 (from strangeworks-rigetti)\n",
            "  Downloading pyquil-4.14.3-py3-none-any.whl.metadata (10 kB)\n",
            "Collecting python-dotenv==1.0.0 (from strangeworks-rigetti)\n",
            "  Downloading python_dotenv-1.0.0-py3-none-any.whl.metadata (21 kB)\n",
            "Collecting qcs_api_client==0.25.5 (from strangeworks-rigetti)\n",
            "  Downloading qcs_api_client-0.25.5-py3-none-any.whl.metadata (4.0 kB)\n",
            "Collecting strangeworks<0.6.0,>=0.5.11 (from strangeworks-rigetti)\n",
            "  Downloading strangeworks-0.5.16-py3-none-any.whl.metadata (1.0 kB)\n",
            "Requirement already satisfied: deprecated<2.0.0,>=1.2.14 in /usr/local/lib/python3.11/dist-packages (from pyquil==4.14.3->strangeworks-rigetti) (1.2.18)\n",
            "Requirement already satisfied: matplotlib-inline<0.2.0,>=0.1.7 in /usr/local/lib/python3.11/dist-packages (from pyquil==4.14.3->strangeworks-rigetti) (0.1.7)\n",
            "Requirement already satisfied: networkx>=2.5 in /usr/local/lib/python3.11/dist-packages (from pyquil==4.14.3->strangeworks-rigetti) (3.4.2)\n",
            "Collecting numpy<2.0,>=1.25 (from pyquil==4.14.3->strangeworks-rigetti)\n",
            "  Downloading numpy-1.26.4-cp311-cp311-manylinux_2_17_x86_64.manylinux2014_x86_64.whl.metadata (61 kB)\n",
            "\u001b[2K     \u001b[90m━━━━━━━━━━━━━━━━━━━━━━━━━━━━━━━━━━━━━━━━\u001b[0m \u001b[32m61.0/61.0 kB\u001b[0m \u001b[31m1.6 MB/s\u001b[0m eta \u001b[36m0:00:00\u001b[0m\n",
            "\u001b[?25hCollecting packaging<24.0,>=23.1 (from pyquil==4.14.3->strangeworks-rigetti)\n",
            "  Downloading packaging-23.2-py3-none-any.whl.metadata (3.2 kB)\n",
            "Collecting qcs-sdk-python>=0.20.1 (from pyquil==4.14.3->strangeworks-rigetti)\n",
            "  Downloading qcs_sdk_python-0.21.18-cp311-cp311-manylinux_2_28_x86_64.whl.metadata (7.0 kB)\n",
            "Collecting quil>=0.11.2 (from pyquil==4.14.3->strangeworks-rigetti)\n",
            "  Downloading quil-0.16.0-cp311-cp311-manylinux_2_17_x86_64.manylinux2014_x86_64.whl.metadata (1.8 kB)\n",
            "Collecting rpcq<4.0.0,>=3.11.0 (from pyquil==4.14.3->strangeworks-rigetti)\n",
            "  Downloading rpcq-3.11.0.tar.gz (45 kB)\n",
            "\u001b[2K     \u001b[90m━━━━━━━━━━━━━━━━━━━━━━━━━━━━━━━━━━━━━━━━\u001b[0m \u001b[32m45.6/45.6 kB\u001b[0m \u001b[31m3.6 MB/s\u001b[0m eta \u001b[36m0:00:00\u001b[0m\n",
            "\u001b[?25h  Preparing metadata (setup.py) ... \u001b[?25l\u001b[?25hdone\n",
            "Requirement already satisfied: scipy<2.0,>=1.11 in /usr/local/lib/python3.11/dist-packages (from pyquil==4.14.3->strangeworks-rigetti) (1.14.1)\n",
            "Collecting types-deprecated<2.0.0.0,>=1.2.9.3 (from pyquil==4.14.3->strangeworks-rigetti)\n",
            "  Downloading types_deprecated-1.2.15.20250304-py3-none-any.whl.metadata (2.0 kB)\n",
            "Requirement already satisfied: PyJWT<3.0.0,>=2.4.0 in /usr/local/lib/python3.11/dist-packages (from qcs_api_client==0.25.5->strangeworks-rigetti) (2.10.1)\n",
            "Requirement already satisfied: attrs>=21.3.0 in /usr/local/lib/python3.11/dist-packages (from qcs_api_client==0.25.5->strangeworks-rigetti) (25.3.0)\n",
            "Requirement already satisfied: httpx<1.0,>=0.23.0 in /usr/local/lib/python3.11/dist-packages (from qcs_api_client==0.25.5->strangeworks-rigetti) (0.28.1)\n",
            "Collecting iso8601<2.0.0,>=1.0.2 (from qcs_api_client==0.25.5->strangeworks-rigetti)\n",
            "  Downloading iso8601-1.1.0-py3-none-any.whl.metadata (9.8 kB)\n",
            "Requirement already satisfied: pydantic<3.0.0,>=2.6.3 in /usr/local/lib/python3.11/dist-packages (from qcs_api_client==0.25.5->strangeworks-rigetti) (2.11.2)\n",
            "Collecting pydantic-settings<3.0.0,>=2.2.1 (from qcs_api_client==0.25.5->strangeworks-rigetti)\n",
            "  Downloading pydantic_settings-2.8.1-py3-none-any.whl.metadata (3.5 kB)\n",
            "Requirement already satisfied: python-dateutil<3.0.0,>=2.8.1 in /usr/local/lib/python3.11/dist-packages (from qcs_api_client==0.25.5->strangeworks-rigetti) (2.8.2)\n",
            "Collecting rfc3339<7.0,>=6.2 (from qcs_api_client==0.25.5->strangeworks-rigetti)\n",
            "  Downloading rfc3339-6.2-py3-none-any.whl.metadata (816 bytes)\n",
            "Collecting tenacity<9.0.0,>=8.3.0 (from qcs_api_client==0.25.5->strangeworks-rigetti)\n",
            "  Downloading tenacity-8.5.0-py3-none-any.whl.metadata (1.2 kB)\n",
            "Requirement already satisfied: toml<0.11.0,>=0.10.2 in /usr/local/lib/python3.11/dist-packages (from qcs_api_client==0.25.5->strangeworks-rigetti) (0.10.2)\n",
            "Collecting gql<4.0.0,>=3.4.1 (from strangeworks<0.6.0,>=0.5.11->strangeworks-rigetti)\n",
            "  Downloading gql-3.5.2-py2.py3-none-any.whl.metadata (9.4 kB)\n",
            "Requirement already satisfied: pyyaml<7.0.0,>=6.0.0 in /usr/local/lib/python3.11/dist-packages (from strangeworks<0.6.0,>=0.5.11->strangeworks-rigetti) (6.0.2)\n",
            "Requirement already satisfied: requests<3.0.0,>=2.30.0 in /usr/local/lib/python3.11/dist-packages (from strangeworks<0.6.0,>=0.5.11->strangeworks-rigetti) (2.32.3)\n",
            "Requirement already satisfied: requests-toolbelt<2.0.0,>=1.0.0 in /usr/local/lib/python3.11/dist-packages (from strangeworks<0.6.0,>=0.5.11->strangeworks-rigetti) (1.0.0)\n",
            "Collecting strangeworks-core>=0.3.14 (from strangeworks<0.6.0,>=0.5.11->strangeworks-rigetti)\n",
            "  Downloading strangeworks_core-0.3.14-py3-none-any.whl.metadata (1.6 kB)\n",
            "Collecting tomlkit<0.12.0,>=0.11.1 (from strangeworks<0.6.0,>=0.5.11->strangeworks-rigetti)\n",
            "  Downloading tomlkit-0.11.8-py3-none-any.whl.metadata (2.7 kB)\n",
            "Requirement already satisfied: wrapt<2,>=1.10 in /usr/local/lib/python3.11/dist-packages (from deprecated<2.0.0,>=1.2.14->pyquil==4.14.3->strangeworks-rigetti) (1.17.2)\n",
            "Collecting graphql-core<3.2.5,>=3.2 (from gql<4.0.0,>=3.4.1->strangeworks<0.6.0,>=0.5.11->strangeworks-rigetti)\n",
            "  Downloading graphql_core-3.2.4-py3-none-any.whl.metadata (10 kB)\n",
            "Requirement already satisfied: yarl<2.0,>=1.6 in /usr/local/lib/python3.11/dist-packages (from gql<4.0.0,>=3.4.1->strangeworks<0.6.0,>=0.5.11->strangeworks-rigetti) (1.18.3)\n",
            "Collecting backoff<3.0,>=1.11.1 (from gql<4.0.0,>=3.4.1->strangeworks<0.6.0,>=0.5.11->strangeworks-rigetti)\n",
            "  Downloading backoff-2.2.1-py3-none-any.whl.metadata (14 kB)\n",
            "Requirement already satisfied: anyio<5,>=3.0 in /usr/local/lib/python3.11/dist-packages (from gql<4.0.0,>=3.4.1->strangeworks<0.6.0,>=0.5.11->strangeworks-rigetti) (4.9.0)\n",
            "Requirement already satisfied: certifi in /usr/local/lib/python3.11/dist-packages (from httpx<1.0,>=0.23.0->qcs_api_client==0.25.5->strangeworks-rigetti) (2025.1.31)\n",
            "Requirement already satisfied: httpcore==1.* in /usr/local/lib/python3.11/dist-packages (from httpx<1.0,>=0.23.0->qcs_api_client==0.25.5->strangeworks-rigetti) (1.0.7)\n",
            "Requirement already satisfied: idna in /usr/local/lib/python3.11/dist-packages (from httpx<1.0,>=0.23.0->qcs_api_client==0.25.5->strangeworks-rigetti) (3.10)\n",
            "Requirement already satisfied: h11<0.15,>=0.13 in /usr/local/lib/python3.11/dist-packages (from httpcore==1.*->httpx<1.0,>=0.23.0->qcs_api_client==0.25.5->strangeworks-rigetti) (0.14.0)\n",
            "Requirement already satisfied: traitlets in /usr/local/lib/python3.11/dist-packages (from matplotlib-inline<0.2.0,>=0.1.7->pyquil==4.14.3->strangeworks-rigetti) (5.7.1)\n",
            "Requirement already satisfied: annotated-types>=0.6.0 in /usr/local/lib/python3.11/dist-packages (from pydantic<3.0.0,>=2.6.3->qcs_api_client==0.25.5->strangeworks-rigetti) (0.7.0)\n",
            "Requirement already satisfied: pydantic-core==2.33.1 in /usr/local/lib/python3.11/dist-packages (from pydantic<3.0.0,>=2.6.3->qcs_api_client==0.25.5->strangeworks-rigetti) (2.33.1)\n",
            "Requirement already satisfied: typing-extensions>=4.12.2 in /usr/local/lib/python3.11/dist-packages (from pydantic<3.0.0,>=2.6.3->qcs_api_client==0.25.5->strangeworks-rigetti) (4.13.1)\n",
            "Requirement already satisfied: typing-inspection>=0.4.0 in /usr/local/lib/python3.11/dist-packages (from pydantic<3.0.0,>=2.6.3->qcs_api_client==0.25.5->strangeworks-rigetti) (0.4.0)\n",
            "Requirement already satisfied: six>=1.5 in /usr/local/lib/python3.11/dist-packages (from python-dateutil<3.0.0,>=2.8.1->qcs_api_client==0.25.5->strangeworks-rigetti) (1.17.0)\n",
            "Collecting qcs-api-client-common>=0.11.8 (from qcs-sdk-python>=0.20.1->pyquil==4.14.3->strangeworks-rigetti)\n",
            "  Downloading qcs_api_client_common-0.11.8-cp311-cp311-manylinux_2_28_x86_64.whl.metadata (2.5 kB)\n",
            "Requirement already satisfied: charset-normalizer<4,>=2 in /usr/local/lib/python3.11/dist-packages (from requests<3.0.0,>=2.30.0->strangeworks<0.6.0,>=0.5.11->strangeworks-rigetti) (3.4.1)\n",
            "Requirement already satisfied: urllib3<3,>=1.21.1 in /usr/local/lib/python3.11/dist-packages (from requests<3.0.0,>=2.30.0->strangeworks<0.6.0,>=0.5.11->strangeworks-rigetti) (2.3.0)\n",
            "Requirement already satisfied: msgpack<2.0,>=0.6 in /usr/local/lib/python3.11/dist-packages (from rpcq<4.0.0,>=3.11.0->pyquil==4.14.3->strangeworks-rigetti) (1.1.0)\n",
            "Collecting python-rapidjson (from rpcq<4.0.0,>=3.11.0->pyquil==4.14.3->strangeworks-rigetti)\n",
            "  Downloading python_rapidjson-1.20-cp311-cp311-manylinux_2_17_x86_64.manylinux2014_x86_64.whl.metadata (22 kB)\n",
            "Requirement already satisfied: pyzmq>=17 in /usr/local/lib/python3.11/dist-packages (from rpcq<4.0.0,>=3.11.0->pyquil==4.14.3->strangeworks-rigetti) (24.0.1)\n",
            "Collecting ruamel.yaml (from rpcq<4.0.0,>=3.11.0->pyquil==4.14.3->strangeworks-rigetti)\n",
            "  Downloading ruamel.yaml-0.18.10-py3-none-any.whl.metadata (23 kB)\n",
            "Collecting dill<0.4.0,>=0.3.6 (from strangeworks-core>=0.3.14->strangeworks<0.6.0,>=0.5.11->strangeworks-rigetti)\n",
            "  Downloading dill-0.3.9-py3-none-any.whl.metadata (10 kB)\n",
            "Requirement already satisfied: sniffio>=1.1 in /usr/local/lib/python3.11/dist-packages (from anyio<5,>=3.0->gql<4.0.0,>=3.4.1->strangeworks<0.6.0,>=0.5.11->strangeworks-rigetti) (1.3.1)\n",
            "Requirement already satisfied: grpcio>=1.63.0 in /usr/local/lib/python3.11/dist-packages (from qcs-api-client-common>=0.11.8->qcs-sdk-python>=0.20.1->pyquil==4.14.3->strangeworks-rigetti) (1.71.0)\n",
            "Requirement already satisfied: grpc-interceptor>=0.15.0 in /usr/local/lib/python3.11/dist-packages (from qcs-api-client-common>=0.11.8->qcs-sdk-python>=0.20.1->pyquil==4.14.3->strangeworks-rigetti) (0.15.4)\n",
            "Requirement already satisfied: multidict>=4.0 in /usr/local/lib/python3.11/dist-packages (from yarl<2.0,>=1.6->gql<4.0.0,>=3.4.1->strangeworks<0.6.0,>=0.5.11->strangeworks-rigetti) (6.3.2)\n",
            "Requirement already satisfied: propcache>=0.2.0 in /usr/local/lib/python3.11/dist-packages (from yarl<2.0,>=1.6->gql<4.0.0,>=3.4.1->strangeworks<0.6.0,>=0.5.11->strangeworks-rigetti) (0.3.1)\n",
            "Collecting ruamel.yaml.clib>=0.2.7 (from ruamel.yaml->rpcq<4.0.0,>=3.11.0->pyquil==4.14.3->strangeworks-rigetti)\n",
            "  Downloading ruamel.yaml.clib-0.2.12-cp311-cp311-manylinux_2_17_x86_64.manylinux2014_x86_64.whl.metadata (2.7 kB)\n",
            "Downloading strangeworks_rigetti-0.2.19-py3-none-any.whl (9.6 kB)\n",
            "Downloading pyquil-4.14.3-py3-none-any.whl (202 kB)\n",
            "\u001b[2K   \u001b[90m━━━━━━━━━━━━━━━━━━━━━━━━━━━━━━━━━━━━━━━━\u001b[0m \u001b[32m202.8/202.8 kB\u001b[0m \u001b[31m7.3 MB/s\u001b[0m eta \u001b[36m0:00:00\u001b[0m\n",
            "\u001b[?25hDownloading python_dotenv-1.0.0-py3-none-any.whl (19 kB)\n",
            "Downloading qcs_api_client-0.25.5-py3-none-any.whl (161 kB)\n",
            "\u001b[2K   \u001b[90m━━━━━━━━━━━━━━━━━━━━━━━━━━━━━━━━━━━━━━━━\u001b[0m \u001b[32m162.0/162.0 kB\u001b[0m \u001b[31m11.4 MB/s\u001b[0m eta \u001b[36m0:00:00\u001b[0m\n",
            "\u001b[?25hDownloading strangeworks-0.5.16-py3-none-any.whl (37 kB)\n",
            "Downloading gql-3.5.2-py2.py3-none-any.whl (74 kB)\n",
            "\u001b[2K   \u001b[90m━━━━━━━━━━━━━━━━━━━━━━━━━━━━━━━━━━━━━━━━\u001b[0m \u001b[32m74.3/74.3 kB\u001b[0m \u001b[31m5.4 MB/s\u001b[0m eta \u001b[36m0:00:00\u001b[0m\n",
            "\u001b[?25hDownloading iso8601-1.1.0-py3-none-any.whl (9.9 kB)\n",
            "Downloading numpy-1.26.4-cp311-cp311-manylinux_2_17_x86_64.manylinux2014_x86_64.whl (18.3 MB)\n",
            "\u001b[2K   \u001b[90m━━━━━━━━━━━━━━━━━━━━━━━━━━━━━━━━━━━━━━━━\u001b[0m \u001b[32m18.3/18.3 MB\u001b[0m \u001b[31m73.8 MB/s\u001b[0m eta \u001b[36m0:00:00\u001b[0m\n",
            "\u001b[?25hDownloading packaging-23.2-py3-none-any.whl (53 kB)\n",
            "\u001b[2K   \u001b[90m━━━━━━━━━━━━━━━━━━━━━━━━━━━━━━━━━━━━━━━━\u001b[0m \u001b[32m53.0/53.0 kB\u001b[0m \u001b[31m3.6 MB/s\u001b[0m eta \u001b[36m0:00:00\u001b[0m\n",
            "\u001b[?25hDownloading pydantic_settings-2.8.1-py3-none-any.whl (30 kB)\n",
            "Downloading qcs_sdk_python-0.21.18-cp311-cp311-manylinux_2_28_x86_64.whl (6.7 MB)\n",
            "\u001b[2K   \u001b[90m━━━━━━━━━━━━━━━━━━━━━━━━━━━━━━━━━━━━━━━━\u001b[0m \u001b[32m6.7/6.7 MB\u001b[0m \u001b[31m92.8 MB/s\u001b[0m eta \u001b[36m0:00:00\u001b[0m\n",
            "\u001b[?25hDownloading quil-0.16.0-cp311-cp311-manylinux_2_17_x86_64.manylinux2014_x86_64.whl (2.3 MB)\n",
            "\u001b[2K   \u001b[90m━━━━━━━━━━━━━━━━━━━━━━━━━━━━━━━━━━━━━━━━\u001b[0m \u001b[32m2.3/2.3 MB\u001b[0m \u001b[31m67.9 MB/s\u001b[0m eta \u001b[36m0:00:00\u001b[0m\n",
            "\u001b[?25hDownloading rfc3339-6.2-py3-none-any.whl (5.5 kB)\n",
            "Downloading strangeworks_core-0.3.14-py3-none-any.whl (31 kB)\n",
            "Downloading tenacity-8.5.0-py3-none-any.whl (28 kB)\n",
            "Downloading tomlkit-0.11.8-py3-none-any.whl (35 kB)\n",
            "Downloading types_deprecated-1.2.15.20250304-py3-none-any.whl (8.6 kB)\n",
            "Downloading backoff-2.2.1-py3-none-any.whl (15 kB)\n",
            "Downloading dill-0.3.9-py3-none-any.whl (119 kB)\n",
            "\u001b[2K   \u001b[90m━━━━━━━━━━━━━━━━━━━━━━━━━━━━━━━━━━━━━━━━\u001b[0m \u001b[32m119.4/119.4 kB\u001b[0m \u001b[31m9.2 MB/s\u001b[0m eta \u001b[36m0:00:00\u001b[0m\n",
            "\u001b[?25hDownloading graphql_core-3.2.4-py3-none-any.whl (203 kB)\n",
            "\u001b[2K   \u001b[90m━━━━━━━━━━━━━━━━━━━━━━━━━━━━━━━━━━━━━━━━\u001b[0m \u001b[32m203.2/203.2 kB\u001b[0m \u001b[31m13.3 MB/s\u001b[0m eta \u001b[36m0:00:00\u001b[0m\n",
            "\u001b[?25hDownloading qcs_api_client_common-0.11.8-cp311-cp311-manylinux_2_28_x86_64.whl (2.7 MB)\n",
            "\u001b[2K   \u001b[90m━━━━━━━━━━━━━━━━━━━━━━━━━━━━━━━━━━━━━━━━\u001b[0m \u001b[32m2.7/2.7 MB\u001b[0m \u001b[31m75.5 MB/s\u001b[0m eta \u001b[36m0:00:00\u001b[0m\n",
            "\u001b[?25hDownloading python_rapidjson-1.20-cp311-cp311-manylinux_2_17_x86_64.manylinux2014_x86_64.whl (1.7 MB)\n",
            "\u001b[2K   \u001b[90m━━━━━━━━━━━━━━━━━━━━━━━━━━━━━━━━━━━━━━━━\u001b[0m \u001b[32m1.7/1.7 MB\u001b[0m \u001b[31m63.1 MB/s\u001b[0m eta \u001b[36m0:00:00\u001b[0m\n",
            "\u001b[?25hDownloading ruamel.yaml-0.18.10-py3-none-any.whl (117 kB)\n",
            "\u001b[2K   \u001b[90m━━━━━━━━━━━━━━━━━━━━━━━━━━━━━━━━━━━━━━━━\u001b[0m \u001b[32m117.7/117.7 kB\u001b[0m \u001b[31m9.4 MB/s\u001b[0m eta \u001b[36m0:00:00\u001b[0m\n",
            "\u001b[?25hDownloading ruamel.yaml.clib-0.2.12-cp311-cp311-manylinux_2_17_x86_64.manylinux2014_x86_64.whl (739 kB)\n",
            "\u001b[2K   \u001b[90m━━━━━━━━━━━━━━━━━━━━━━━━━━━━━━━━━━━━━━━━\u001b[0m \u001b[32m739.1/739.1 kB\u001b[0m \u001b[31m36.8 MB/s\u001b[0m eta \u001b[36m0:00:00\u001b[0m\n",
            "\u001b[?25hBuilding wheels for collected packages: rpcq\n",
            "  Building wheel for rpcq (setup.py) ... \u001b[?25l\u001b[?25hdone\n",
            "  Created wheel for rpcq: filename=rpcq-3.11.0-py3-none-any.whl size=45969 sha256=9acab64e7e7378fa876afb6dbdff10bb431aa5e23e32fecaf56a59c1a3f53133\n",
            "  Stored in directory: /root/.cache/pip/wheels/b3/b6/ad/8f05ac735661e828024c764a6e6fc3eb6f84434e408aad5eab\n",
            "Successfully built rpcq\n",
            "Installing collected packages: rfc3339, types-deprecated, tomlkit, tenacity, ruamel.yaml.clib, python-rapidjson, python-dotenv, packaging, numpy, iso8601, graphql-core, dill, backoff, ruamel.yaml, quil, gql, strangeworks-core, rpcq, qcs-api-client-common, pydantic-settings, strangeworks, qcs-sdk-python, qcs_api_client, pyquil, strangeworks-rigetti\n",
            "  Attempting uninstall: tenacity\n",
            "    Found existing installation: tenacity 9.1.2\n",
            "    Uninstalling tenacity-9.1.2:\n",
            "      Successfully uninstalled tenacity-9.1.2\n",
            "  Attempting uninstall: packaging\n",
            "    Found existing installation: packaging 24.2\n",
            "    Uninstalling packaging-24.2:\n",
            "      Successfully uninstalled packaging-24.2\n",
            "  Attempting uninstall: numpy\n",
            "    Found existing installation: numpy 2.0.2\n",
            "    Uninstalling numpy-2.0.2:\n",
            "      Successfully uninstalled numpy-2.0.2\n",
            "\u001b[31mERROR: pip's dependency resolver does not currently take into account all the packages that are installed. This behaviour is the source of the following dependency conflicts.\n",
            "google-cloud-bigquery 3.31.0 requires packaging>=24.2.0, but you have packaging 23.2 which is incompatible.\n",
            "thinc 8.3.6 requires numpy<3.0.0,>=2.0.0, but you have numpy 1.26.4 which is incompatible.\u001b[0m\u001b[31m\n",
            "\u001b[0mSuccessfully installed backoff-2.2.1 dill-0.3.9 gql-3.5.2 graphql-core-3.2.4 iso8601-1.1.0 numpy-1.26.4 packaging-23.2 pydantic-settings-2.8.1 pyquil-4.14.3 python-dotenv-1.0.0 python-rapidjson-1.20 qcs-api-client-common-0.11.8 qcs-sdk-python-0.21.18 qcs_api_client-0.25.5 quil-0.16.0 rfc3339-6.2 rpcq-3.11.0 ruamel.yaml-0.18.10 ruamel.yaml.clib-0.2.12 strangeworks-0.5.16 strangeworks-core-0.3.14 strangeworks-rigetti-0.2.19 tenacity-8.5.0 tomlkit-0.11.8 types-deprecated-1.2.15.20250304\n"
          ]
        }
      ]
    },
    {
      "cell_type": "markdown",
      "source": [
        "## Authentication\n",
        "\n",
        "Your API token can be found in the [portal](https://portal.strangeworks.com)."
      ],
      "metadata": {
        "id": "YEfd9CRmNksV"
      }
    },
    {
      "cell_type": "markdown",
      "source": [
        "### Google Colab\n",
        "\n",
        "If running in Google Colab first set your API token as a secret environment variable in Colab. You can do this by clicking on the key icon on the left, then adding a key called `STRANGEWORKS_API_KEY` with your API token as the value.\n",
        "\n",
        "Then, run the cell below to authenticate."
      ],
      "metadata": {
        "id": "0S53HfQGNqp4"
      }
    },
    {
      "cell_type": "code",
      "source": [
        "import strangeworks as sw\n",
        "from google.colab import userdata\n",
        "\n",
        "api_key = userdata.get('STRANGEWORKS_API_KEY')\n",
        "sw.authenticate(api_key)"
      ],
      "metadata": {
        "id": "S7fmJbP2Ntyg"
      },
      "execution_count": 1,
      "outputs": []
    },
    {
      "cell_type": "markdown",
      "source": [
        "### Local\n",
        "\n",
        "If running locally, you can save your API token in a dotenv file. Create a file called `.env` in the same directory as this notebook and add the following line to the file:\n",
        "\n",
        "```\n",
        "STRANGEWORKS_API_KEY=your_api_token\n",
        "```\n",
        "\n",
        "Then, run the cell below to authenticate."
      ],
      "metadata": {
        "id": "J-NKmDjwNzu_"
      }
    },
    {
      "cell_type": "code",
      "source": [
        "# %pip install -q python-dotenv\n",
        "# import strangeworks as sw\n",
        "# import os\n",
        "# from dotenv import load_dotenv\n",
        "\n",
        "# load_dotenv()\n",
        "# api_key = os.getenv(\"STRANGEWORKS_API_KEY\")\n",
        "# sw.authenticate(api_key)"
      ],
      "metadata": {
        "id": "nRAEKPstN05q"
      },
      "execution_count": null,
      "outputs": []
    },
    {
      "cell_type": "markdown",
      "source": [
        "# Rigetti pyQuil"
      ],
      "metadata": {
        "id": "xbbaWM3XN4zQ"
      }
    },
    {
      "cell_type": "code",
      "source": [
        "from strangeworks_rigetti import get_qc\n",
        "\n",
        "\n",
        "qc = get_qc(\n",
        "    \"9q-square-qvm\", as_qvm=True\n",
        ")"
      ],
      "metadata": {
        "id": "iDnyg96zOCa0"
      },
      "execution_count": 2,
      "outputs": []
    },
    {
      "cell_type": "code",
      "source": [
        "import pyquil\n",
        "from pyquil.gates import CNOT, MEASURE, H\n",
        "\n",
        "program = pyquil.Program()\n",
        "program = program.inst(H(0))\n",
        "program = program.inst(CNOT(0, 1))\n",
        "ro = program.declare(\"ro\", \"BIT\", 2)\n",
        "program = program.inst(MEASURE(0, ro[0]))\n",
        "program = program.inst(MEASURE(1, ro[1]))\n",
        "program.wrap_in_numshots_loop(10)\n",
        "\n",
        "res = qc.run(program, circuit_type=\"qasm\")\n",
        "\n",
        "print(res)"
      ],
      "metadata": {
        "colab": {
          "base_uri": "https://localhost:8080/"
        },
        "id": "hlSm9bSeNfeZ",
        "outputId": "b1ea6e27-2152-4602-aadc-ccfca05db95f"
      },
      "execution_count": 3,
      "outputs": [
        {
          "output_type": "stream",
          "name": "stdout",
          "text": [
            "{'pickled_result': 'gASVMgEAAAAAAAB9lIwCcm+UjBVudW1weS5jb3JlLm11bHRpYXJyYXmUjAxfcmVjb25zdHJ1Y3SUk5SMBW51bXB5lIwHbmRhcnJheZSTlEsAhZRDAWKUh5RSlChLAUsKSwKGlGgFjAVkdHlwZZSTlIwCaTiUiYiHlFKUKEsDjAE8lE5OTkr/////Sv////9LAHSUYolDoAEAAAAAAAAAAQAAAAAAAAABAAAAAAAAAAEAAAAAAAAAAQAAAAAAAAABAAAAAAAAAAAAAAAAAAAAAAAAAAAAAAAAAAAAAAAAAAAAAAAAAAAAAQAAAAAAAAABAAAAAAAAAAAAAAAAAAAAAAAAAAAAAAABAAAAAAAAAAEAAAAAAAAAAQAAAAAAAAABAAAAAAAAAAAAAAAAAAAAAAAAAAAAAACUdJRicy4=', 'data': {'ro': [[1, 1], [1, 1], [1, 1], [0, 0], [0, 0], [1, 1], [0, 0], [1, 1], [1, 1], [0, 0]]}, 'strangeworks_process_time': 1, 'compilation_time': 0, 'execution_time': 0, 'quil_compile_time': 0, 'native_quil_to_executable_time': 0}\n"
          ]
        }
      ]
    }
  ]
}