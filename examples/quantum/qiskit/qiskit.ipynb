{
 "cells": [
  {
   "cell_type": "markdown",
   "metadata": {},
   "source": [
    "<a href=\"https://colab.research.google.com/github/strangeworks/examples/blob/master/examples/quantum/qiskit/qiskit.ipynb\"><img src=\"https://colab.research.google.com/assets/colab-badge.svg\" /></a>"
   ]
  },
  {
   "cell_type": "markdown",
   "metadata": {},
   "source": [
    "# Installation"
   ]
  },
  {
   "cell_type": "code",
   "execution_count": null,
   "metadata": {},
   "outputs": [],
   "source": [
    "%pip install -q -U pip && pip install -q strangeworks-qiskit-runtime"
   ]
  },
  {
   "cell_type": "markdown",
   "metadata": {},
   "source": [
    "## Authentication\n",
    "\n",
    "Your API token can be found in the [portal](https://portal.strangeworks.com)."
   ]
  },
  {
   "cell_type": "markdown",
   "metadata": {},
   "source": [
    "### Google Colab\n",
    "\n",
    "If running in Google Colab first set your API token as a secret environment variable in Colab. You can do this by clicking on the key icon on the left, then adding a key called `STRANGEWORKS_API_KEY` with your API token as the value.\n",
    "\n",
    "Then, run the cell below to authenticate."
   ]
  },
  {
   "cell_type": "code",
   "execution_count": null,
   "metadata": {},
   "outputs": [],
   "source": [
    "import strangeworks as sw\n",
    "from google.colab import userdata\n",
    "\n",
    "api_key = userdata.get('STRANGEWORKS_API_KEY')\n",
    "sw.authenticate(api_key)"
   ]
  },
  {
   "cell_type": "markdown",
   "metadata": {},
   "source": [
    "### Local\n",
    "\n",
    "If running locally, you can save your API token in a dotenv file. Create a file called `.env` in the same directory as this notebook and add the following line to the file:\n",
    "\n",
    "```\n",
    "STRANGEWORKS_API_KEY=your_api_token\n",
    "```\n",
    "\n",
    "Then, run the cell below to authenticate."
   ]
  },
  {
   "cell_type": "code",
   "execution_count": null,
   "metadata": {},
   "outputs": [],
   "source": [
    "# %pip install -q python-dotenv\n",
    "# import strangeworks as sw\n",
    "# import os\n",
    "# from dotenv import load_dotenv\n",
    "\n",
    "# load_dotenv()\n",
    "# api_key = os.getenv(\"STRANGEWORKS_API_KEY\")\n",
    "# sw.authenticate(api_key)"
   ]
  },
  {
   "cell_type": "markdown",
   "metadata": {},
   "source": [
    "# Strangeworks Qiskit Runtime\n",
    "\n",
    "## List Available Devices"
   ]
  },
  {
   "cell_type": "code",
   "execution_count": 2,
   "metadata": {},
   "outputs": [
    {
     "name": "stdout",
     "output_type": "stream",
     "text": [
      "WARNING From IBM: After March 31, 2024 Qiskit Runtime sessions creation will gain exclusive access to quantum systems, and will be charged for all time from the first job in the session, until the session is closed.\n",
      "Available backends:\n",
      "  - simulator_mps - Status: active\n",
      "  - simulator_extended_stabilizer - Status: active\n",
      "  - ibm_marrakesh - Status: active\n",
      "  - ibm_sherbrooke - Status: active\n",
      "  - simulator_statevector - Status: active\n",
      "  - ibm_kyiv - Status: active\n",
      "  - ibm_osaka - Status: internal\n",
      "  - ibm_kyoto - Status: internal\n",
      "  - ibm_fez - Status: active\n",
      "  - simulator_stabilizer - Status: active\n",
      "  - ibm_brisbane - Status: active\n",
      "  - ibm_torino - Status: active\n",
      "  - test_eagle_us-east - Status: active\n",
      "  - ibmq_qasm_simulator - Status: active\n"
     ]
    }
   ],
   "source": [
    "from strangeworks_qiskit_runtime import StrangeworksQiskitRuntimeService\n",
    "\n",
    "service = StrangeworksQiskitRuntimeService()\n",
    "backends = service.backends()\n",
    "print('Available backends:')\n",
    "for backend in backends:\n",
    "    print(f'  - {backend.name} - Status: {backend.remote_status}')"
   ]
  },
  {
   "cell_type": "code",
   "execution_count": 3,
   "metadata": {},
   "outputs": [
    {
     "name": "stdout",
     "output_type": "stream",
     "text": [
      "⏳ Job clear-wetland-1540 submitted!\n",
      "\n"
     ]
    }
   ],
   "source": [
    "import qiskit\n",
    "from qiskit.transpiler.preset_passmanagers import generate_preset_pass_manager\n",
    "from qiskit_ibm_runtime import Sampler, Session\n",
    "\n",
    "backend = service.backend(\"ibmq_qasm_simulator\")\n",
    "\n",
    "session = Session(backend=backend)\n",
    "sampler = Sampler(mode=session)\n",
    "\n",
    "# circuit = random_circuit(2, 2, seed=1, measure=True).decompose(reps=1)\n",
    "circuit = qiskit.QuantumCircuit(2)\n",
    "circuit.h(0)\n",
    "circuit.cx(0, 1)\n",
    "circuit.measure_all()\n",
    "\n",
    "# We must compile the circuit for the backend. Can be skipped for simulators.\n",
    "pm = generate_preset_pass_manager(backend=backend, optimization_level=1)\n",
    "tps_circuit = pm.run(circuit)\n",
    "\n",
    "job = sampler.run([tps_circuit], shots=1000)\n",
    "# At this point, the job is running on the Strangeworks Platform.\n",
    "# You can check the status of the job in the Portal, even if \n",
    "# stop this script.\n",
    "print(f'⏳ Job {job.job_slug} submitted!\\n')\n",
    "\n",
    "# Check on the status of the job\n",
    "status = job.status()\n",
    "\n",
    "# Lots of good info in here\n",
    "result = job.result()"
   ]
  }
 ],
 "metadata": {
  "kernelspec": {
   "display_name": "Python 3",
   "language": "python",
   "name": "python3"
  },
  "language_info": {
   "codemirror_mode": {
    "name": "ipython",
    "version": 3
   },
   "file_extension": ".py",
   "mimetype": "text/x-python",
   "name": "python",
   "nbconvert_exporter": "python",
   "pygments_lexer": "ipython3",
   "version": "3.10.8"
  }
 },
 "nbformat": 4,
 "nbformat_minor": 2
}
