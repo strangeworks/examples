{
 "cells": [
  {
   "cell_type": "markdown",
   "metadata": {},
   "source": [
    "<a href=\"https://colab.research.google.com/github/strangeworks/examples/blob/master/examples/quantum/braket/braket.ipynb\"><img src=\"https://colab.research.google.com/assets/colab-badge.svg\" /></a>"
   ]
  },
  {
   "cell_type": "markdown",
   "metadata": {},
   "source": [
    "# Installation"
   ]
  },
  {
   "cell_type": "code",
   "execution_count": null,
   "metadata": {},
   "outputs": [],
   "source": [
    "%pip install -q -U pip && pip install -q strangeworks-braket"
   ]
  },
  {
   "cell_type": "markdown",
   "metadata": {},
   "source": [
    "## Authentication\n",
    "\n",
    "Your API token can be found in the [portal](https://portal.strangeworks.com)."
   ]
  },
  {
   "cell_type": "markdown",
   "metadata": {},
   "source": [
    "### Google Colab\n",
    "\n",
    "If running in Google Colab first set your API token as a secret environment variable in Colab. You can do this by clicking on the key icon on the left, then adding a key called `STRANGEWORKS_API_KEY` with your API token as the value.\n",
    "\n",
    "Then, run the cell below to authenticate."
   ]
  },
  {
   "cell_type": "code",
   "execution_count": null,
   "metadata": {},
   "outputs": [],
   "source": [
    "import strangeworks as sw\n",
    "from google.colab import userdata\n",
    "\n",
    "api_key = userdata.get('STRANGEWORKS_API_KEY')\n",
    "sw.authenticate(api_key)"
   ]
  },
  {
   "cell_type": "markdown",
   "metadata": {},
   "source": [
    "### Local\n",
    "\n",
    "If running locally, you can save your API token in a dotenv file. Create a file called `.env` in the same directory as this notebook and add the following line to the file:\n",
    "\n",
    "```\n",
    "STRANGEWORKS_API_KEY=your_api_token\n",
    "```\n",
    "\n",
    "Then, run the cell below to authenticate."
   ]
  },
  {
   "cell_type": "code",
   "execution_count": null,
   "metadata": {},
   "outputs": [],
   "source": [
    "# %pip install -q python-dotenv\n",
    "# import strangeworks as sw\n",
    "# import os\n",
    "# from dotenv import load_dotenv\n",
    "\n",
    "# load_dotenv()\n",
    "# api_key = os.getenv(\"STRANGEWORKS_API_KEY\")\n",
    "# sw.authenticate(api_key)"
   ]
  },
  {
   "cell_type": "markdown",
   "metadata": {},
   "source": [
    "# Strangeworks Braket\n",
    "\n",
    "## List available devices"
   ]
  },
  {
   "cell_type": "code",
   "execution_count": 2,
   "metadata": {},
   "outputs": [
    {
     "name": "stdout",
     "output_type": "stream",
     "text": [
      "Available devices:\n",
      "  - DM1 (arn:aws:braket:::device/quantum-simulator/amazon/dm1)\n",
      "  - Forte 1 (arn:aws:braket:us-east-1::device/qpu/ionq/Forte-1)\n",
      "  - Garnet (arn:aws:braket:eu-north-1::device/qpu/iqm/Garnet)\n",
      "  - SV1 (arn:aws:braket:::device/quantum-simulator/amazon/sv1)\n",
      "  - Aria 1 (arn:aws:braket:us-east-1::device/qpu/ionq/Aria-1)\n",
      "  - TN1 (arn:aws:braket:::device/quantum-simulator/amazon/tn1)\n",
      "  - Aquila (arn:aws:braket:us-east-1::device/qpu/quera/Aquila)\n"
     ]
    }
   ],
   "source": [
    "from strangeworks_braket import StrangeworksDevice\n",
    "\n",
    "devices = StrangeworksDevice.get_devices(statuses=[\"ONLINE\"])\n",
    "print(\"Available devices:\")\n",
    "for device in devices:\n",
    "    print(f\"  - {device.name} ({device.arn})\")"
   ]
  },
  {
   "cell_type": "markdown",
   "metadata": {},
   "source": [
    "# Run a circuit"
   ]
  },
  {
   "cell_type": "code",
   "execution_count": 3,
   "metadata": {},
   "outputs": [
    {
     "name": "stdout",
     "output_type": "stream",
     "text": [
      "⏳ Job young-heap-3432 submitted!\n",
      "\n",
      "🎉 📊 Counts: Counter({'11': 505, '00': 495})\n",
      "\n"
     ]
    }
   ],
   "source": [
    "from braket.circuits import Circuit\n",
    "\n",
    "bell_state = Circuit().h(0).cnot(0, 1)\n",
    "sv1 = StrangeworksDevice(\"arn:aws:braket:::device/quantum-simulator/amazon/sv1\")\n",
    "\n",
    "task = sv1.run(bell_state, 1000)\n",
    "print(f\"⏳ Job {task.id} submitted!\\n\")\n",
    "\n",
    "result = task.result()\n",
    "print(f\"🎉 📊 Counts: {result.measurement_counts}\\n\")"
   ]
  }
 ],
 "metadata": {
  "kernelspec": {
   "display_name": "Python 3",
   "language": "python",
   "name": "python3"
  },
  "language_info": {
   "codemirror_mode": {
    "name": "ipython",
    "version": 3
   },
   "file_extension": ".py",
   "mimetype": "text/x-python",
   "name": "python",
   "nbconvert_exporter": "python",
   "pygments_lexer": "ipython3",
   "version": "3.10.8"
  }
 },
 "nbformat": 4,
 "nbformat_minor": 2
}
