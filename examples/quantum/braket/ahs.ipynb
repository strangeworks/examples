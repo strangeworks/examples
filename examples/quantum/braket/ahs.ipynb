{
 "cells": [
  {
   "cell_type": "markdown",
   "metadata": {},
   "source": [
    "<a href=\"https://colab.research.google.com/github/strangeworks/examples/blob/master/examples/quantum/braket/ahs.ipynb\"><img src=\"https://colab.research.google.com/assets/colab-badge.svg\" /></a>"
   ]
  },
  {
   "cell_type": "markdown",
   "metadata": {},
   "source": [
    "<!-- # Installation -->"
   ]
  },
  {
   "cell_type": "code",
   "execution_count": null,
   "metadata": {},
   "outputs": [],
   "source": [
    "%pip install -q -U pip && pip install -q strangeworks-braket\n",
    "%pip install -q matplotlib"
   ]
  },
  {
   "cell_type": "markdown",
   "metadata": {},
   "source": [
    "## Authentication\n",
    "\n",
    "Your API token can be found in the [portal](https://portal.strangeworks.com)."
   ]
  },
  {
   "cell_type": "markdown",
   "metadata": {},
   "source": [
    "### Google Colab\n",
    "\n",
    "If running in Google Colab first set your API token as a secret environment variable in Colab. You can do this by clicking on the key icon on the left, then adding a key called `STRANGEWORKS_API_KEY` with your API token as the value.\n",
    "\n",
    "Then, run the cell below to authenticate."
   ]
  },
  {
   "cell_type": "code",
   "execution_count": null,
   "metadata": {},
   "outputs": [],
   "source": [
    "import strangeworks as sw\n",
    "from google.colab import userdata\n",
    "\n",
    "api_key = userdata.get('STRANGEWORKS_API_KEY')\n",
    "sw.authenticate(api_key)"
   ]
  },
  {
   "cell_type": "markdown",
   "metadata": {},
   "source": [
    "### Local\n",
    "\n",
    "If running locally, you can save your API token in a dotenv file. Create a file called `.env` in the same directory as this notebook and add the following line to the file:\n",
    "\n",
    "```\n",
    "STRANGEWORKS_API_KEY=your_api_token\n",
    "```\n",
    "\n",
    "Then, run the cell below to authenticate."
   ]
  },
  {
   "cell_type": "code",
   "execution_count": null,
   "metadata": {},
   "outputs": [],
   "source": [
    "# %pip install -q python-dotenv\n",
    "# import strangeworks as sw\n",
    "# import os\n",
    "# from dotenv import load_dotenv\n",
    "\n",
    "# load_dotenv()\n",
    "# api_key = os.getenv(\"STRANGEWORKS_API_KEY\")\n",
    "# sw.authenticate(api_key)"
   ]
  },
  {
   "cell_type": "markdown",
   "metadata": {},
   "source": [
    "# Analog Hamiltonian Simulation"
   ]
  },
  {
   "cell_type": "code",
   "execution_count": 2,
   "metadata": {},
   "outputs": [],
   "source": [
    "import numpy as np\n",
    "\n",
    "from strangeworks_braket import StrangeworksDevice, StrangeworksQuantumTask\n",
    "from strangeworks_braket.utils.ahs_utils import rabi_pulse, constant_time_series\n",
    "\n",
    "from braket.timings.time_series import TimeSeries\n",
    "from braket.ahs.driving_field import DrivingField\n",
    "from braket.ahs.atom_arrangement import AtomArrangement\n",
    "from braket.ahs.analog_hamiltonian_simulation import AnalogHamiltonianSimulation\n",
    "from braket.tasks.analog_hamiltonian_simulation_quantum_task_result import (\n",
    "    AnalogHamiltonianSimulationQuantumTaskResult,\n",
    ")\n",
    "\n",
    "from collections import Counter\n",
    "import matplotlib.pyplot as plt"
   ]
  },
  {
   "cell_type": "markdown",
   "metadata": {},
   "source": [
    "## Set Device and Get Status"
   ]
  },
  {
   "cell_type": "code",
   "execution_count": 3,
   "metadata": {},
   "outputs": [],
   "source": [
    "device = StrangeworksDevice(\"arn:aws:braket:us-east-1::device/qpu/quera/Aquila\")\n",
    "assert device.status == \"ONLINE\", \"Device is not online, visit https://www.quera.com/aquila for availability.\""
   ]
  },
  {
   "cell_type": "markdown",
   "metadata": {},
   "source": [
    "## Create Driving Parameters"
   ]
  },
  {
   "cell_type": "code",
   "execution_count": 4,
   "metadata": {},
   "outputs": [],
   "source": [
    "rydberg = device.properties.paradigm.rydberg\n",
    "omega_const = 1.5e7   # rad / s\n",
    "rabi_pulse_area = np.pi/np.sqrt(3) # rad\n",
    "omega_slew_rate_max = float(rydberg.rydbergGlobal.rabiFrequencySlewRateMax) # rad/s^2\n",
    "\n",
    "time_points, amplitude_values = rabi_pulse(rabi_pulse_area, omega_const, 0.2 * omega_slew_rate_max)\n",
    "\n",
    "amplitude = TimeSeries()\n",
    "for t, v in zip(time_points, amplitude_values):\n",
    "    amplitude.put(t, v)\n",
    "\n",
    "detuning = constant_time_series(amplitude, 0.0) \n",
    "phase = constant_time_series(amplitude, 0.0) \n",
    "\n",
    "drive = DrivingField(\n",
    "    amplitude=amplitude, \n",
    "    detuning=detuning, \n",
    "    phase=phase\n",
    ")"
   ]
  },
  {
   "cell_type": "markdown",
   "metadata": {},
   "source": [
    "## Create Register"
   ]
  },
  {
   "cell_type": "code",
   "execution_count": 5,
   "metadata": {},
   "outputs": [],
   "source": [
    "separation = 5e-6\n",
    "block_separation = 15e-6\n",
    "k_max = 5\n",
    "m_max = 5\n",
    "\n",
    "register = AtomArrangement()\n",
    "for k in range(k_max):\n",
    "    for m in range(m_max):\n",
    "        register.add((block_separation*m, block_separation*k + separation/np.sqrt(3)))\n",
    "        register.add((block_separation*m-separation/2, block_separation*k - separation/(2*np.sqrt(3))))\n",
    "        register.add((block_separation*m+separation/2, block_separation*k - separation/(2*np.sqrt(3))))   "
   ]
  },
  {
   "cell_type": "markdown",
   "metadata": {},
   "source": [
    "## Execute the Circuit"
   ]
  },
  {
   "cell_type": "code",
   "execution_count": 6,
   "metadata": {},
   "outputs": [
    {
     "name": "stdout",
     "output_type": "stream",
     "text": [
      "\n",
      "🤖 Executing Circuit...\n",
      "\n",
      "⏳ Job quiet-tree-5607 submitted!\n",
      "\n"
     ]
    }
   ],
   "source": [
    "ahs_program = AnalogHamiltonianSimulation(\n",
    "    register=register, \n",
    "    hamiltonian=drive\n",
    ")\n",
    "discrete_program = ahs_program.discretize(device)\n",
    "\n",
    "print(\"\\n🤖 Executing Circuit...\\n\")\n",
    "\n",
    "n_shots = 100\n",
    "task = device.run(discrete_program, n_shots)\n",
    "\n",
    "# At this point, the job is running on the Strangeworks Platform.\n",
    "# You can check the status of the job in the Portal.\n",
    "print(f\"⏳ Job {task.id} submitted!\\n\")"
   ]
  },
  {
   "cell_type": "code",
   "execution_count": 7,
   "metadata": {},
   "outputs": [],
   "source": [
    "# task = StrangeworksQuantumTask.from_strangeworks_slug(\"\")\n",
    "\n",
    "result = task.result()"
   ]
  },
  {
   "cell_type": "markdown",
   "metadata": {},
   "source": [
    "## Post-processing"
   ]
  },
  {
   "cell_type": "code",
   "execution_count": 8,
   "metadata": {},
   "outputs": [],
   "source": [
    "def get_counts(result: AnalogHamiltonianSimulationQuantumTaskResult):\n",
    "    \"\"\"Aggregate state counts from AHS shot results\n",
    "\n",
    "        Args:\n",
    "            result (AnalogHamiltonianSimulationQuantumTaskResult): The result \n",
    "                from which the aggregated state counts are obtained\n",
    "\n",
    "        Returns:\n",
    "            Dict[str, int]: number of times each state configuration is measured\n",
    "\n",
    "        Notes: We use the following convention to denote the state of an atom (site):\n",
    "            e: empty site\n",
    "            r: Rydberg state atom\n",
    "            g: ground state atom\n",
    "    \"\"\"\n",
    "\n",
    "    state_counts = Counter()\n",
    "    states = ['e', 'r', 'g']\n",
    "    for shot in result.measurements:\n",
    "        pre = shot.shotResult.preSequence\n",
    "        post = shot.shotResult.postSequence\n",
    "        state_idx = np.array(pre) * (1 + np.array(post))\n",
    "        state = \"\".join(map(lambda s_idx: states[s_idx], state_idx))\n",
    "        state_counts.update((state,))\n",
    "\n",
    "    return dict(state_counts)\n",
    "\n",
    "n_shots = len(result.measurements)\n",
    "\n",
    "counts = get_counts(result)\n",
    "average_density = [0, 0, 0]\n",
    "average_num_triangles = [0, 0, 0, 0]\n",
    "for key, val in counts.items():\n",
    "    for i in range(0, 3*k_max*m_max, 3):\n",
    "        short_seq = key[i:i+3]\n",
    "        for j in range(3):\n",
    "            if short_seq[j]==\"r\":\n",
    "                average_density[j] += val     \n",
    "        \n",
    "        \n",
    "        average_num_triangles[short_seq.count('r')] += val\n",
    "        \n",
    "        \n",
    "average_density = np.array(average_density) / (k_max * m_max * n_shots)\n",
    "average_num_triangles = np.array(average_num_triangles) / n_shots"
   ]
  },
  {
   "cell_type": "code",
   "execution_count": 9,
   "metadata": {},
   "outputs": [
    {
     "data": {
      "image/png": "[encoded data removed]",
      "text/plain": [
       "<Figure size 1000x400 with 2 Axes>"
      ]
     },
     "metadata": {},
     "output_type": "display_data"
    }
   ],
   "source": [
    "fig, (ax1, ax2) = plt.subplots(1, 2, figsize=(10, 4))\n",
    "ax1.grid(True)\n",
    "ax2.grid(True)\n",
    "\n",
    "ax1.bar(range(len(average_density)), average_density, color = \"#CE0074\")\n",
    "ax1.set_xticks(range(3))\n",
    "ax1.set_xticklabels(range(3))\n",
    "ax1.set_xlabel(\"Indices of atoms\")\n",
    "ax1.set_ylabel(\"Average Rydberg density\")\n",
    "\n",
    "\n",
    "ax2.bar(range(len(average_num_triangles)), average_num_triangles, color = \"#CE0074\")\n",
    "ax2.set_xlabel(\"Number of Rydberg atoms\")\n",
    "ax2.set_ylabel(\"Average number of triangles\")\n",
    "\n",
    "plt.show()"
   ]
  },
  {
   "cell_type": "markdown",
   "metadata": {},
   "source": [
    "In the left plot above we see that, on average, after simulation we have our atoms evenly distributed between each node of the triangles.\n",
    "\n",
    "On the right, we see for each triangle, the average number of atoms in the excited Rydberg state. This shows that by the end of the simulation we mostly have 1 excitation per triangle, some triangles with no excitations and some with two. "
   ]
  }
 ],
 "metadata": {
  "kernelspec": {
   "display_name": "Python 3",
   "language": "python",
   "name": "python3"
  },
  "language_info": {
   "codemirror_mode": {
    "name": "ipython",
    "version": 3
   },
   "file_extension": ".py",
   "mimetype": "text/x-python",
   "name": "python",
   "nbconvert_exporter": "python",
   "pygments_lexer": "ipython3",
   "version": "3.10.8"
  }
 },
 "nbformat": 4,
 "nbformat_minor": 2
}
