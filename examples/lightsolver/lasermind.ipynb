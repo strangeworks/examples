{
  "cells": [
    {
      "cell_type": "markdown",
      "id": "5bde9b57",
      "metadata": {
        "id": "5bde9b57"
      },
      "source": [
        "<a href=\"https://colab.research.google.com/github/strangeworks/examples/blob/master/examples/lightsolver/lasermind.ipynb\"><img src=\"https://colab.research.google.com/assets/colab-badge.svg\" /></a>"
      ]
    },
    {
      "cell_type": "markdown",
      "id": "a3d6df44",
      "metadata": {
        "id": "a3d6df44"
      },
      "source": [
        "# Installation"
      ]
    },
    {
      "cell_type": "code",
      "execution_count": 1,
      "id": "75cb286a",
      "metadata": {
        "colab": {
          "base_uri": "https://localhost:8080/"
        },
        "id": "75cb286a",
        "outputId": "35c71f20-4817-4564-e192-fac6c72141d4"
      },
      "outputs": [
        {
          "output_type": "stream",
          "name": "stdout",
          "text": [
            "\u001b[2K   \u001b[90m━━━━━━━━━━━━━━━━━━━━━━━━━━━━━━━━━━━━━━━━\u001b[0m \u001b[32m9.0/9.0 MB\u001b[0m \u001b[31m77.0 MB/s\u001b[0m eta \u001b[36m0:00:00\u001b[0m\n",
            "\u001b[2K   \u001b[90m━━━━━━━━━━━━━━━━━━━━━━━━━━━━━━━━━━━━━━━━\u001b[0m \u001b[32m2.1/2.1 MB\u001b[0m \u001b[31m13.1 MB/s\u001b[0m eta \u001b[36m0:00:00\u001b[0m\n",
            "\u001b[2K   \u001b[90m━━━━━━━━━━━━━━━━━━━━━━━━━━━━━━━━━━━━━━━━\u001b[0m \u001b[32m17.3/17.3 MB\u001b[0m \u001b[31m135.8 MB/s\u001b[0m eta \u001b[36m0:00:00\u001b[0m\n",
            "\u001b[2K   \u001b[90m━━━━━━━━━━━━━━━━━━━━━━━━━━━━━━━━━━━━━━━━\u001b[0m \u001b[32m14.6/14.6 MB\u001b[0m \u001b[31m18.2 MB/s\u001b[0m eta \u001b[36m0:00:00\u001b[0m\n",
            "\u001b[2K   \u001b[90m━━━━━━━━━━━━━━━━━━━━━━━━━━━━━━━━━━━━━━━━\u001b[0m \u001b[32m2.4/2.4 MB\u001b[0m \u001b[31m80.0 MB/s\u001b[0m eta \u001b[36m0:00:00\u001b[0m\n",
            "\u001b[2K   \u001b[90m━━━━━━━━━━━━━━━━━━━━━━━━━━━━━━━━━━━━━━━━\u001b[0m \u001b[32m3.3/3.3 MB\u001b[0m \u001b[31m99.7 MB/s\u001b[0m eta \u001b[36m0:00:00\u001b[0m\n",
            "\u001b[2K   \u001b[90m━━━━━━━━━━━━━━━━━━━━━━━━━━━━━━━━━━━━━━━━\u001b[0m \u001b[32m6.7/6.7 MB\u001b[0m \u001b[31m122.2 MB/s\u001b[0m eta \u001b[36m0:00:00\u001b[0m\n",
            "\u001b[2K   \u001b[90m━━━━━━━━━━━━━━━━━━━━━━━━━━━━━━━━━━━━━━━━\u001b[0m \u001b[32m3.3/3.3 MB\u001b[0m \u001b[31m100.9 MB/s\u001b[0m eta \u001b[36m0:00:00\u001b[0m\n",
            "\u001b[2K   \u001b[90m━━━━━━━━━━━━━━━━━━━━━━━━━━━━━━━━━━━━━━━━\u001b[0m \u001b[32m1.7/1.7 MB\u001b[0m \u001b[31m69.7 MB/s\u001b[0m eta \u001b[36m0:00:00\u001b[0m\n",
            "\u001b[2K   \u001b[90m━━━━━━━━━━━━━━━━━━━━━━━━━━━━━━━━━━━━━━━━\u001b[0m \u001b[32m5.4/5.4 MB\u001b[0m \u001b[31m118.0 MB/s\u001b[0m eta \u001b[36m0:00:00\u001b[0m\n",
            "\u001b[2K   \u001b[90m━━━━━━━━━━━━━━━━━━━━━━━━━━━━━━━━━━━━━━━━\u001b[0m \u001b[32m12.5/12.5 MB\u001b[0m \u001b[31m131.1 MB/s\u001b[0m eta \u001b[36m0:00:00\u001b[0m\n",
            "\u001b[?25h\u001b[31mERROR: pip's dependency resolver does not currently take into account all the packages that are installed. This behaviour is the source of the following dependency conflicts.\n",
            "pandas-stubs 2.1.4.231227 requires numpy>=1.26.0; python_version < \"3.13\", but you have numpy 1.24.4 which is incompatible.\u001b[0m\u001b[31m\n",
            "\u001b[0m"
          ]
        }
      ],
      "source": [
        "%pip install -q -U pip && pip install -q strangeworks-optimization"
      ]
    },
    {
      "cell_type": "markdown",
      "id": "cba8c889",
      "metadata": {
        "id": "cba8c889"
      },
      "source": [
        "## Authentication\n",
        "\n",
        "Your API token can be found in the [portal](https://portal.strangeworks.com)."
      ]
    },
    {
      "cell_type": "markdown",
      "id": "6b3f7ff3",
      "metadata": {
        "id": "6b3f7ff3"
      },
      "source": [
        "### Google Colab\n",
        "\n",
        "If running in Google Colab first set your API token as a secret environment variable in Colab. You can do this by clicking on the key icon on the left, then adding a key called `STRANGEWORKS_API_KEY` with your API token as the value.\n",
        "\n",
        "Then, run the cell below to authenticate."
      ]
    },
    {
      "cell_type": "code",
      "execution_count": 2,
      "id": "2ba5daae",
      "metadata": {
        "id": "2ba5daae"
      },
      "outputs": [],
      "source": [
        "import strangeworks as sw\n",
        "from google.colab import userdata\n",
        "\n",
        "api_key = userdata.get('STRANGEWORKS_API_KEY')\n",
        "sw.authenticate(api_key)"
      ]
    },
    {
      "cell_type": "markdown",
      "id": "c70fee34",
      "metadata": {
        "id": "c70fee34"
      },
      "source": [
        "### Local\n",
        "\n",
        "If running locally, you can save your API token in a dotenv file. Create a file called `.env` in the same directory as this notebook and add the following line to the file:\n",
        "\n",
        "```\n",
        "STRANGEWORKS_API_KEY=your_api_token\n",
        "```\n",
        "\n",
        "Then, run the cell below to authenticate."
      ]
    },
    {
      "cell_type": "code",
      "execution_count": null,
      "id": "0b775db3",
      "metadata": {
        "id": "0b775db3"
      },
      "outputs": [],
      "source": [
        "# %pip install -q python-dotenv\n",
        "# import strangeworks as sw\n",
        "# import os\n",
        "# from dotenv import load_dotenv\n",
        "\n",
        "# load_dotenv()\n",
        "# api_key = os.getenv(\"STRANGEWORKS_API_KEY\")\n",
        "# sw.authenticate(api_key)"
      ]
    },
    {
      "cell_type": "markdown",
      "id": "8502d7b6",
      "metadata": {
        "id": "8502d7b6"
      },
      "source": [
        "# StrangeworksOptimizer\n",
        "\n",
        "We implement our own Optimization class called `StrangeworksOptimizer`.\n",
        "`StrangeworksOptimizer` provides the full functionality of the Strangeworks Optimization Service."
      ]
    },
    {
      "cell_type": "code",
      "execution_count": 3,
      "id": "c2166a54",
      "metadata": {
        "colab": {
          "base_uri": "https://localhost:8080/"
        },
        "id": "c2166a54",
        "outputId": "bc89fa23-03f8-4e9b-92b1-de2ace1ae8df"
      },
      "outputs": [
        {
          "output_type": "stream",
          "name": "stderr",
          "text": [
            "<frozen importlib._bootstrap>:914: ImportWarning: _PyDrive2ImportHook.find_spec() not found; falling back to find_module()\n",
            "<frozen importlib._bootstrap>:914: ImportWarning: _PyDriveImportHook.find_spec() not found; falling back to find_module()\n",
            "<frozen importlib._bootstrap>:914: ImportWarning: _GenerativeAIImportHook.find_spec() not found; falling back to find_module()\n",
            "<frozen importlib._bootstrap>:914: ImportWarning: _OpenCVImportHook.find_spec() not found; falling back to find_module()\n",
            "<frozen importlib._bootstrap>:914: ImportWarning: APICoreClientInfoImportHook.find_spec() not found; falling back to find_module()\n",
            "<frozen importlib._bootstrap>:914: ImportWarning: _BokehImportHook.find_spec() not found; falling back to find_module()\n",
            "<frozen importlib._bootstrap>:914: ImportWarning: _AltairImportHook.find_spec() not found; falling back to find_module()\n"
          ]
        }
      ],
      "source": [
        "from strangeworks_optimization import StrangeworksOptimizer\n",
        "so = StrangeworksOptimizer()"
      ]
    },
    {
      "cell_type": "markdown",
      "id": "03367f1a",
      "metadata": {
        "id": "03367f1a"
      },
      "source": [
        "# Models"
      ]
    },
    {
      "cell_type": "code",
      "execution_count": null,
      "id": "4f077f13",
      "metadata": {
        "id": "4f077f13"
      },
      "outputs": [],
      "source": [
        "from dimod import BinaryQuadraticModel\n",
        "\n",
        "linear = {\"1\": -2, \"2\": -2, \"3\": -3, \"4\": -3, \"5\": -2, \"6\": -2, \"7\": -2, \"8\": -3, \"9\": -3, \"10\": -2}\n",
        "quadratic = {\n",
        "    (\"1\", \"2\"): 2,\n",
        "    (\"1\", \"3\"): 2,\n",
        "    (\"2\", \"4\"): 2,\n",
        "    (\"3\", \"4\"): 2,\n",
        "    (\"3\", \"5\"): 2,\n",
        "    (\"4\", \"5\"): 2,\n",
        "    (\"6\", \"2\"): 2,\n",
        "    (\"6\", \"3\"): 2,\n",
        "    (\"7\", \"4\"): 2,\n",
        "    (\"8\", \"4\"): 2,\n",
        "    (\"9\", \"5\"): 2,\n",
        "    (\"10\", \"5\"): 2,\n",
        "    (\"7\", \"7\"): 2,\n",
        "    (\"6\", \"8\"): 2,\n",
        "    (\"7\", \"9\"): 2,\n",
        "    (\"8\", \"9\"): 2,\n",
        "    (\"8\", \"10\"): 2,\n",
        "}\n",
        "model = BinaryQuadraticModel(linear, quadratic, \"BINARY\")"
      ]
    },
    {
      "cell_type": "markdown",
      "id": "f3d86f23",
      "metadata": {
        "id": "f3d86f23"
      },
      "source": [
        "### Solvers\n",
        "\n",
        "The solver name usually follows the convention of `provider-id.backend-name`.\n",
        "\n",
        "You can determine which solver `backends` are available to you through our platform. Check it out."
      ]
    },
    {
      "cell_type": "code",
      "execution_count": 4,
      "id": "137aa348",
      "metadata": {
        "colab": {
          "base_uri": "https://localhost:8080/"
        },
        "id": "137aa348",
        "outputId": "8b1dfcdf-d63a-47f8-9a8c-4a8f786aa54b"
      },
      "outputs": [
        {
          "output_type": "stream",
          "name": "stdout",
          "text": [
            "[Backend(id='ZjE5NTUzOTAtZTQyNC00OTEzLWI1ZjYtYWE0YTFjOGI5MWU5',\n",
            "         data={},\n",
            "         data_schema='',\n",
            "         name='lightsolver.lasermind',\n",
            "         remote_backend_id='61234',\n",
            "         remote_status='ONLINE',\n",
            "         slug='sq3rkxm86')]\n"
          ]
        }
      ],
      "source": [
        "backends = so.backends()\n",
        "\n",
        "from pprint import pprint\n",
        "pprint(backends)"
      ]
    },
    {
      "cell_type": "markdown",
      "id": "79c46d12",
      "metadata": {
        "id": "79c46d12"
      },
      "source": [
        "## Options"
      ]
    },
    {
      "cell_type": "code",
      "execution_count": null,
      "id": "4c055663",
      "metadata": {
        "id": "4c055663"
      },
      "outputs": [],
      "source": [
        "solver = \"lightsolver.lasermind\"\n",
        "\n",
        "from strangeworks_optimization_models.parameter_models import LightSolverParameterModel\n",
        "\n",
        "options = LightSolverParameterModel(timeout=1)"
      ]
    },
    {
      "cell_type": "markdown",
      "id": "ff906e48",
      "metadata": {
        "id": "ff906e48"
      },
      "source": [
        "# Running a job"
      ]
    },
    {
      "cell_type": "code",
      "execution_count": null,
      "id": "3404f1c7",
      "metadata": {
        "id": "3404f1c7"
      },
      "outputs": [],
      "source": [
        "tags = [\"foo\", \"bar\"]\n",
        "so = StrangeworksOptimizer(model=model, solver=solver, options=options, tags=tags)\n",
        "sw_job = so.run()\n",
        "print(f\"Job slug: {sw_job.slug}\")"
      ]
    },
    {
      "cell_type": "markdown",
      "id": "0ae412c6",
      "metadata": {
        "id": "0ae412c6"
      },
      "source": [
        "# Status"
      ]
    },
    {
      "cell_type": "code",
      "execution_count": null,
      "id": "7362cf72",
      "metadata": {
        "id": "7362cf72"
      },
      "outputs": [],
      "source": [
        "print(f\"Job status: {so.status(sw_job.slug)}\")"
      ]
    },
    {
      "cell_type": "markdown",
      "id": "9502d150",
      "metadata": {
        "id": "9502d150"
      },
      "source": [
        "# Results"
      ]
    },
    {
      "cell_type": "code",
      "execution_count": null,
      "id": "5974c3b9",
      "metadata": {
        "id": "5974c3b9"
      },
      "outputs": [],
      "source": [
        "results = so.results(sw_job.slug)\n",
        "print(f\"Best solution:\\n{results.solution.first}\")"
      ]
    },
    {
      "cell_type": "code",
      "source": [
        "results.solution_options[\"raw_results\"]"
      ],
      "metadata": {
        "id": "JbXJARFplmOV"
      },
      "id": "JbXJARFplmOV",
      "execution_count": null,
      "outputs": []
    }
  ],
  "metadata": {
    "kernelspec": {
      "display_name": "Python 3 (ipykernel)",
      "language": "python",
      "name": "python3"
    },
    "language_info": {
      "codemirror_mode": {
        "name": "ipython",
        "version": 3
      },
      "file_extension": ".py",
      "mimetype": "text/x-python",
      "name": "python",
      "nbconvert_exporter": "python",
      "pygments_lexer": "ipython3",
      "version": "3.10.8"
    },
    "colab": {
      "provenance": [],
      "toc_visible": true
    }
  },
  "nbformat": 4,
  "nbformat_minor": 5
}