{
 "cells": [
  {
   "cell_type": "markdown",
   "metadata": {},
   "source": [
    "<a href=\"https://colab.research.google.com/github/strangeworks/examples/blob/master/examples/optimization/nec/tsp.ipynb\"><img src=\"https://colab.research.google.com/assets/colab-badge.svg\" /></a>"
   ]
  },
  {
   "cell_type": "markdown",
   "metadata": {},
   "source": [
    "# Installation"
   ]
  },
  {
   "cell_type": "code",
   "execution_count": 1,
   "metadata": {},
   "outputs": [],
   "source": [
    "%pip install -q -U pip && pip install -q strangeworks-optimization\n",
    "\n",
    "import sys\n",
    "import math\n",
    "from itertools import product\n",
    "import strangeworks as sw\n",
    "from strangeworks_optimization import StrangeworksOptimizer\n",
    "from strangeworks_optimization_models.problem_models import QuboDict\n",
    "from strangeworks_optimization_models.parameter_models import NECParameterModel\n",
    "from pyqubo import Array, Placeholder"
   ]
  },
  {
   "cell_type": "markdown",
   "metadata": {},
   "source": [
    "## Authentication"
   ]
  },
  {
   "cell_type": "markdown",
   "metadata": {},
   "source": [
    "### Google Colab\n",
    "\n",
    "If running in Google Colab first set your API token as a secret environment variable in Colab. You can do this by clicking on the key icon on the left, then adding a key called `STRANGEWORKS_API_KEY` with your API token as the value.\n",
    "\n",
    "Then, run the cell below to authenticate."
   ]
  },
  {
   "cell_type": "code",
   "execution_count": 2,
   "metadata": {},
   "outputs": [],
   "source": [
    "from google.colab import userdata\n",
    "\n",
    "api_key = userdata.get('STRANGEWORKS_API_KEY')\n",
    "sw.authenticate(api_key)"
   ]
  },
  {
   "cell_type": "markdown",
   "metadata": {},
   "source": [
    "### Local\n",
    "\n",
    "If running locally, you can save your API token in a dotenv file. Create a file called `.env` in the same directory as this notebook and add the following line to the file:\n",
    "\n",
    "```\n",
    "STRANGEWORKS_API_KEY=your_api_token\n",
    "```\n",
    "\n",
    "Then, run the cell below to authenticate."
   ]
  },
  {
   "cell_type": "code",
   "execution_count": 3,
   "metadata": {},
   "outputs": [],
   "source": [
    "# %pip install python-dotenv\n",
    "# import os\n",
    "# from dotenv import load_dotenv\n",
    "\n",
    "# load_dotenv()\n",
    "# api_key = os.getenv(\"STRANGEWORKS_API_KEY\")\n",
    "# sw.authenticate(api_key)"
   ]
  },
  {
   "cell_type": "markdown",
   "metadata": {},
   "source": [
    "# Execution"
   ]
  },
  {
   "cell_type": "markdown",
   "metadata": {},
   "source": [
    "## Load Problem"
   ]
  },
  {
   "cell_type": "markdown",
   "metadata": {},
   "source": [
    "### Read TSPLIB file"
   ]
  },
  {
   "cell_type": "code",
   "execution_count": 4,
   "metadata": {},
   "outputs": [],
   "source": [
    "def read_tsp_file(input_file):\n",
    "    pos_list = []\n",
    "    with open(input_file, mode='r', encoding=\"utf-8\") as fin:\n",
    "        for line in fin:\n",
    "            line = line.strip()\n",
    "            line2 = line.split()\n",
    "\n",
    "            if line2[0] == 'DIMENSION':\n",
    "                point_num = int(line2[2])\n",
    "            if line2[0] == 'DIMENSION:':\n",
    "                point_num = int(line2[1])\n",
    "            if str.isdigit(line2[0]):\n",
    "                pos_list.append([float(line2[1]), float(line2[2])])\n",
    "\n",
    "    return [point_num, pos_list]"
   ]
  },
  {
   "cell_type": "markdown",
   "metadata": {},
   "source": [
    "### Distance calculation between two points"
   ]
  },
  {
   "cell_type": "code",
   "execution_count": 5,
   "metadata": {},
   "outputs": [],
   "source": [
    "def point_len(point_x1, point_y1, point_x2, point_y2):\n",
    "    length2 = (point_x1 - point_x2)**2 + (point_y1 - point_y2)**2\n",
    "    length = round(math.sqrt(length2))\n",
    "    return length"
   ]
  },
  {
   "cell_type": "markdown",
   "metadata": {},
   "source": [
    "### Distance calculation between all points"
   ]
  },
  {
   "cell_type": "code",
   "execution_count": 6,
   "metadata": {},
   "outputs": [],
   "source": [
    "def calc_distance(pos_list, point_num):\n",
    "    pos_len = []\n",
    "    dlength = []\n",
    "\n",
    "    max_len = 0\n",
    "    d_min = []  # Distance array of closest cities\n",
    "\n",
    "    for i in range(point_num):\n",
    "        min_len = 10000\n",
    "        for j in range(point_num):\n",
    "            point_length = point_len(pos_list[i][0], pos_list[i][1], pos_list[j][0], pos_list[j][1])\n",
    "            pos_len.append(point_length)\n",
    "            if max_len < point_length:\n",
    "                max_len = point_length\n",
    "            if (min_len > point_length) and (point_length != 0):\n",
    "                min_len = point_length\n",
    "        dlength.append(pos_len)\n",
    "        pos_len = []\n",
    "        d_min.append(min_len)\n",
    "\n",
    "    return [dlength, d_min, max_len]"
   ]
  },
  {
   "cell_type": "markdown",
   "metadata": {},
   "source": [
    "### Get and check result spins"
   ]
  },
  {
   "cell_type": "code",
   "execution_count": 7,
   "metadata": {},
   "outputs": [],
   "source": [
    "def get_item(sample, point_num):\n",
    "    result = []\n",
    "    err = 0\n",
    "    check = [0] * point_num\n",
    "    for i in range(point_num):\n",
    "        count = 0\n",
    "        for j in range(point_num):\n",
    "            if int(sample['x[%d][%d]' % (i, j)]) == 1:\n",
    "                result.append(j)\n",
    "                check[j] += 1\n",
    "                count += 1\n",
    "        if count != 1:\n",
    "            print('ERROR : Visit %d location %d times, at time %d.' % (j, count, i))\n",
    "            err = 1\n",
    "\n",
    "    for i in range(point_num):\n",
    "        if check[i] == 0:\n",
    "            print('ERROR : Does not visit location[%d].' % i)\n",
    "            err = 1\n",
    "        elif check[i] != 1:\n",
    "            print('ERROR : Visit location[%d] %d times.' % (i, check[i]))\n",
    "            err = 1\n",
    "\n",
    "    if err:\n",
    "        raise ValueError('Invalid path in result.')\n",
    "\n",
    "    return result"
   ]
  },
  {
   "cell_type": "markdown",
   "metadata": {},
   "source": [
    "### Result distance calculation"
   ]
  },
  {
   "cell_type": "code",
   "execution_count": 8,
   "metadata": {},
   "outputs": [],
   "source": [
    "def calc_length(item, pos_list):\n",
    "    length = 0\n",
    "    for i in range(len(item) - 1):\n",
    "        length += point_len(pos_list[item[i]][0], pos_list[item[i]][1],\n",
    "                            pos_list[item[i+1]][0], pos_list[item[i+1]][1])\n",
    "    length += point_len(pos_list[item[-1]][0], pos_list[item[-1]][1],\n",
    "                        pos_list[item[0]][0], pos_list[item[0]][1])\n",
    "\n",
    "    return length"
   ]
  },
  {
   "cell_type": "markdown",
   "metadata": {},
   "source": [
    "## Create Hamiltonian"
   ]
  },
  {
   "cell_type": "code",
   "execution_count": 9,
   "metadata": {},
   "outputs": [],
   "source": [
    "def create_hamiltonian(point_num, dlength, d_min, param_c):\n",
    "    # Hamiltonian of the distance between two points\n",
    "    # Spin definition\n",
    "    spin_x = Array.create('x', shape=(point_num, point_num), vartype='BINARY')  # (Turn, City)\n",
    "\n",
    "    # Set the combination of points (Excluding the same place)\n",
    "    pairs = []\n",
    "    for val1, val2 in product(range(point_num), range(point_num)):\n",
    "        if val1 != val2:\n",
    "            pairs.append((val1, val2))\n",
    "\n",
    "    ha_d = 0\n",
    "    for (j, k) in pairs:\n",
    "        ha_d += sum((dlength[j][k] - d_min[j]) * spin_x[i, j] * spin_x[(i+1)%point_num, k] for i in range(point_num))\n",
    "\n",
    "    # Hamiltonian of constraint\n",
    "    ha_a = 0\n",
    "    ha_b = 0\n",
    "    for j in range(point_num):\n",
    "        ha_a += param_c * (sum(spin_x[i, j] for i in range(point_num)) - 1)**2\n",
    "    for i in range(point_num):\n",
    "        ha_b += param_c * (sum(spin_x[i, j] for j in range(point_num)) - 1)**2\n",
    "\n",
    "    # Model generation and conversion to QUBO format\n",
    "    return ha_d + ha_a + ha_b\n",
    "\n",
    "def create_onehot_constraint(point_num):\n",
    "    # create one hot constraint rule.\n",
    "    onehot = [0] * (2 * point_num)\n",
    "    for i in range(point_num):\n",
    "        onehot1 = [0] * point_num\n",
    "        onehot2 = [0] * point_num\n",
    "        for j in range(point_num):\n",
    "            onehot1[j] = 'x[%d][%d]' % (i, j)\n",
    "            onehot2[j] = 'x[%d][%d]' % (j, i)\n",
    "        onehot[i] = onehot1\n",
    "        onehot[point_num + i] = onehot2\n",
    "\n",
    "    return onehot\n",
    "\n",
    "def create_fixed_spin_constraint(point_num):\n",
    "    # create fixed spin constraint rule.\n",
    "    fixed = {}\n",
    "    for i in range(point_num):\n",
    "        fixed['x[0][%d]' % i] = 0\n",
    "        fixed['x[%d][0]' % i] = 0\n",
    "    fixed['x[0][0]'] = 1\n",
    "\n",
    "    return fixed\n",
    "\n",
    "def create_model(pos_list):\n",
    "    point_num = len(pos_list)\n",
    "\n",
    "    dlength, d_min, max_len = calc_distance(pos_list, point_num)\n",
    "\n",
    "    hamiltonian = create_hamiltonian(point_num, dlength, d_min, Placeholder('num_a'))\n",
    "    model = hamiltonian.compile()\n",
    "\n",
    "    param_c = max_len * 0.15\n",
    "    qubo, offset = model.to_qubo(feed_dict={'num_a': param_c})\n",
    "\n",
    "    onehot_constraint = create_onehot_constraint(point_num)\n",
    "    fixed_constraint = create_fixed_spin_constraint(point_num)\n",
    "\n",
    "    qubo = QuboDict(qubo)\n",
    "    solve_param = NECParameterModel(\n",
    "        offset=offset,\n",
    "        num_reads=1,\n",
    "        num_sweeps=1000,\n",
    "        onehot=onehot_constraint,\n",
    "        fixed=fixed_constraint,\n",
    "        timeout=200\n",
    "    )\n",
    "\n",
    "    return qubo, solve_param"
   ]
  },
  {
   "cell_type": "markdown",
   "metadata": {},
   "source": [
    "## Annealing"
   ]
  },
  {
   "cell_type": "code",
   "execution_count": 10,
   "metadata": {},
   "outputs": [],
   "source": [
    "def tsp_lib(arguments):\n",
    "    if len(arguments) == 1:\n",
    "        print(\"No TSP file.\")\n",
    "        sys.exit(1)\n",
    "\n",
    "    point_num, pos_list = read_tsp_file(arguments[1])\n",
    "    print(\"Read \", arguments[1])\n",
    "\n",
    "    # -------------------------------------------------------------------\n",
    "    # Annealing\n",
    "    qubo, solve_param = create_model(pos_list)\n",
    "\n",
    "    so = StrangeworksOptimizer(\n",
    "        model=qubo,\n",
    "        solver=\"nec.vector_annealer\",\n",
    "        options=solve_param\n",
    "    )\n",
    "\n",
    "    job = so.run()\n",
    "    results = so.results(job.slug)\n",
    "\n",
    "    # Check of result\n",
    "    print('Energy,  Length')\n",
    "\n",
    "    best_item = None\n",
    "    best_length = None\n",
    "    for result in results.solution_options[\"raw_results\"]:\n",
    "        try:\n",
    "            item = get_item(result['spin'], point_num)\n",
    "            length = calc_length(item, pos_list)\n",
    "            if best_length is None or length < best_length:\n",
    "                best_length = length\n",
    "                best_item = item\n",
    "        except ValueError:\n",
    "            length = None\n",
    "\n",
    "        print('%s, %s' %\n",
    "              ('%7.3f' % result['energy'] if result['constraint'] else 'INVALID',\n",
    "               '%7.3f' % length if length else '  ERROR'))\n",
    "\n",
    "    print('----------------------------------------')\n",
    "    print('[Result]')\n",
    "    print('  Turn[] = ' + str(best_item))\n",
    "    print('  length = ' + str(best_length))"
   ]
  },
  {
   "cell_type": "code",
   "execution_count": 11,
   "metadata": {},
   "outputs": [
    {
     "name": "stdout",
     "output_type": "stream",
     "text": [
      "Read  eil51.tsp\n",
      "Energy,  Length\n",
      "100.000, 448.000\n",
      "----------------------------------------\n",
      "[Result]\n",
      "  Turn[] = [0, 21, 1, 10, 15, 49, 20, 28, 19, 34, 35, 2, 27, 30, 25, 7, 47, 5, 22, 6, 42, 23, 13, 24, 12, 40, 18, 39, 41, 43, 44, 32, 38, 9, 29, 33, 8, 48, 37, 4, 14, 36, 16, 17, 3, 46, 11, 45, 50, 26, 31]\n",
      "  length = 448\n"
     ]
    }
   ],
   "source": [
    "tsp_lib(['eil51', 'eil51.tsp'])"
   ]
  }
 ],
 "metadata": {
  "kernelspec": {
   "display_name": ".venv",
   "language": "python",
   "name": "python3"
  },
  "language_info": {
   "codemirror_mode": {
    "name": "ipython",
    "version": 3
   },
   "file_extension": ".py",
   "mimetype": "text/x-python",
   "name": "python",
   "nbconvert_exporter": "python",
   "pygments_lexer": "ipython3",
   "version": "3.10.8"
  }
 },
 "nbformat": 4,
 "nbformat_minor": 2
}
