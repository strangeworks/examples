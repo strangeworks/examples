{
  "cells": [
    {
      "cell_type": "markdown",
      "id": "5bde9b57",
      "metadata": {
        "id": "5bde9b57"
      },
      "source": [
        "<a href=\"https://colab.research.google.com/github/strangeworks/examples/blob/master/examples/optimization/lightsolver/lasermind.ipynb\"><img src=\"https://colab.research.google.com/assets/colab-badge.svg\" /></a>"
      ]
    },
    {
      "cell_type": "markdown",
      "id": "a3d6df44",
      "metadata": {
        "id": "a3d6df44"
      },
      "source": [
        "# Installation"
      ]
    },
    {
      "cell_type": "code",
      "execution_count": 1,
      "id": "75cb286a",
      "metadata": {
        "id": "75cb286a"
      },
      "outputs": [],
      "source": [
        "%pip install -q -U pip && pip install -q strangeworks-optimization"
      ]
    },
    {
      "cell_type": "markdown",
      "id": "cba8c889",
      "metadata": {
        "id": "cba8c889"
      },
      "source": [
        "## Authentication\n",
        "\n",
        "Your API token can be found in the [portal](https://portal.strangeworks.com)."
      ]
    },
    {
      "cell_type": "markdown",
      "id": "6b3f7ff3",
      "metadata": {
        "id": "6b3f7ff3"
      },
      "source": [
        "### Google Colab\n",
        "\n",
        "If running in Google Colab first set your API token as a secret environment variable in Colab. You can do this by clicking on the key icon on the left, then adding a key called `STRANGEWORKS_API_KEY` with your API token as the value.\n",
        "\n",
        "Then, run the cell below to authenticate."
      ]
    },
    {
      "cell_type": "code",
      "execution_count": 2,
      "id": "2ba5daae",
      "metadata": {
        "id": "2ba5daae"
      },
      "outputs": [],
      "source": [
        "import strangeworks as sw\n",
        "from google.colab import userdata\n",
        "\n",
        "api_key = userdata.get('STRANGEWORKS_API_KEY')\n",
        "sw.authenticate(api_key)"
      ]
    },
    {
      "cell_type": "markdown",
      "id": "c70fee34",
      "metadata": {
        "id": "c70fee34"
      },
      "source": [
        "### Local"
      ]
    },
    {
      "cell_type": "markdown",
      "id": "jaqz3xZHsXQW",
      "metadata": {
        "id": "jaqz3xZHsXQW"
      },
      "source": [
        "If running locally, you can save your API token in a dotenv file. Create a file called `.env` in the same directory as this notebook and add the following line to the file:\n",
        "\n",
        "```\n",
        "STRANGEWORKS_API_KEY=your_api_token\n",
        "```\n",
        "\n",
        "Then, run the cell below to authenticate."
      ]
    },
    {
      "cell_type": "code",
      "execution_count": 3,
      "id": "0b775db3",
      "metadata": {
        "id": "0b775db3"
      },
      "outputs": [],
      "source": [
        "# %pip install -q python-dotenv\n",
        "# import strangeworks as sw\n",
        "# import os\n",
        "# from dotenv import load_dotenv\n",
        "\n",
        "# load_dotenv()\n",
        "# api_key = os.getenv(\"STRANGEWORKS_API_KEY\")\n",
        "# sw.authenticate(api_key)"
      ]
    },
    {
      "cell_type": "markdown",
      "id": "8502d7b6",
      "metadata": {
        "id": "8502d7b6"
      },
      "source": [
        "# StrangeworksOptimizer\n",
        "\n",
        "We implement our own Optimization class called `StrangeworksOptimizer`.\n",
        "`StrangeworksOptimizer` provides the full functionality of the Strangeworks Optimization Service."
      ]
    },
    {
      "cell_type": "code",
      "execution_count": null,
      "id": "c2166a54",
      "metadata": {
        "id": "c2166a54"
      },
      "outputs": [],
      "source": [
        "from strangeworks_optimization import StrangeworksOptimizer\n",
        "so = StrangeworksOptimizer()"
      ]
    },
    {
      "cell_type": "markdown",
      "id": "03367f1a",
      "metadata": {
        "id": "03367f1a"
      },
      "source": [
        "# Models"
      ]
    },
    {
      "cell_type": "code",
      "execution_count": 5,
      "id": "4f077f13",
      "metadata": {
        "id": "4f077f13"
      },
      "outputs": [],
      "source": [
        "from dimod import BinaryQuadraticModel\n",
        "\n",
        "linear = {\"1\": -2, \"2\": -2, \"3\": -3, \"4\": -3, \"5\": -2, \"6\": -2, \"7\": -2, \"8\": -3, \"9\": -3, \"10\": -2}\n",
        "quadratic = {\n",
        "    (\"1\", \"2\"): 2,\n",
        "    (\"1\", \"3\"): 2,\n",
        "    (\"2\", \"4\"): 2,\n",
        "    (\"3\", \"4\"): 2,\n",
        "    (\"3\", \"5\"): 2,\n",
        "    (\"4\", \"5\"): 2,\n",
        "    (\"6\", \"2\"): 2,\n",
        "    (\"6\", \"3\"): 2,\n",
        "    (\"7\", \"4\"): 2,\n",
        "    (\"8\", \"4\"): 2,\n",
        "    (\"9\", \"5\"): 2,\n",
        "    (\"10\", \"5\"): 2,\n",
        "    (\"7\", \"7\"): 2,\n",
        "    (\"6\", \"8\"): 2,\n",
        "    (\"7\", \"9\"): 2,\n",
        "    (\"8\", \"9\"): 2,\n",
        "    (\"8\", \"10\"): 2,\n",
        "}\n",
        "model = BinaryQuadraticModel(linear, quadratic, \"BINARY\")"
      ]
    },
    {
      "cell_type": "markdown",
      "id": "f3d86f23",
      "metadata": {
        "id": "f3d86f23"
      },
      "source": [
        "### Solvers\n",
        "\n",
        "The solver name usually follows the convention of `provider-id.backend-name`.\n",
        "\n",
        "You can determine which solver `backends` are available to you through our platform. Check it out."
      ]
    },
    {
      "cell_type": "code",
      "execution_count": 6,
      "id": "137aa348",
      "metadata": {
        "colab": {
          "base_uri": "https://localhost:8080/"
        },
        "id": "137aa348",
        "outputId": "7cee19f7-864b-4f02-8911-7c01ede93263"
      },
      "outputs": [
        {
          "name": "stdout",
          "output_type": "stream",
          "text": [
            "[Backend(id='ZjE5NTUzOTAtZTQyNC00OTEzLWI1ZjYtYWE0YTFjOGI5MWU5',\n",
            "         data={},\n",
            "         data_schema='',\n",
            "         name='lightsolver.lasermind',\n",
            "         remote_backend_id='61234',\n",
            "         remote_status='ONLINE',\n",
            "         slug='sq3rkxm86')]\n"
          ]
        }
      ],
      "source": [
        "backends = so.backends()\n",
        "\n",
        "from pprint import pprint\n",
        "pprint(backends)"
      ]
    },
    {
      "cell_type": "markdown",
      "id": "79c46d12",
      "metadata": {
        "id": "79c46d12"
      },
      "source": [
        "## Options"
      ]
    },
    {
      "cell_type": "code",
      "execution_count": 7,
      "id": "4c055663",
      "metadata": {
        "id": "4c055663"
      },
      "outputs": [],
      "source": [
        "solver = \"lightsolver.lasermind\"\n",
        "\n",
        "from strangeworks_optimization_models.parameter_models import LightSolverParameterModel\n",
        "\n",
        "options = LightSolverParameterModel(timeout=1)"
      ]
    },
    {
      "cell_type": "markdown",
      "id": "ff906e48",
      "metadata": {
        "id": "ff906e48"
      },
      "source": [
        "# Running a job"
      ]
    },
    {
      "cell_type": "code",
      "execution_count": 8,
      "id": "3404f1c7",
      "metadata": {
        "colab": {
          "base_uri": "https://localhost:8080/"
        },
        "id": "3404f1c7",
        "outputId": "55d4d0b3-36a3-4475-9420-e59f36395ebf"
      },
      "outputs": [
        {
          "name": "stdout",
          "output_type": "stream",
          "text": [
            "Job slug: silent-stream-6082\n"
          ]
        }
      ],
      "source": [
        "tags = [\"foo\", \"bar\"]\n",
        "so = StrangeworksOptimizer(model=model, solver=solver, options=options, tags=tags)\n",
        "sw_job = so.run()\n",
        "print(f\"Job slug: {sw_job.slug}\")"
      ]
    },
    {
      "cell_type": "markdown",
      "id": "0ae412c6",
      "metadata": {
        "id": "0ae412c6"
      },
      "source": [
        "# Status"
      ]
    },
    {
      "cell_type": "code",
      "execution_count": 9,
      "id": "7362cf72",
      "metadata": {
        "colab": {
          "base_uri": "https://localhost:8080/"
        },
        "id": "7362cf72",
        "outputId": "ce1883d0-66ea-4cbe-eca6-fd6f25830293"
      },
      "outputs": [
        {
          "name": "stdout",
          "output_type": "stream",
          "text": [
            "Job status: CREATED\n"
          ]
        }
      ],
      "source": [
        "print(f\"Job status: {so.status(sw_job.slug)}\")"
      ]
    },
    {
      "cell_type": "markdown",
      "id": "9502d150",
      "metadata": {
        "id": "9502d150"
      },
      "source": [
        "# Results"
      ]
    },
    {
      "cell_type": "code",
      "execution_count": 10,
      "id": "5974c3b9",
      "metadata": {
        "colab": {
          "base_uri": "https://localhost:8080/"
        },
        "id": "5974c3b9",
        "outputId": "3ac3e558-b637-43aa-9794-e09bb1ce7169"
      },
      "outputs": [
        {
          "name": "stdout",
          "output_type": "stream",
          "text": [
            "Best solution:\n",
            "Sample(sample={'1': 1, '10': 1, '2': 0, '3': 0, '4': 1, '5': 0, '6': 1, '7': 0, '8': 0, '9': 1}, energy=-12.0, num_occurrences=1)\n"
          ]
        }
      ],
      "source": [
        "results = so.results(sw_job.slug)\n",
        "print(f\"Best solution:\\n{results.solution.first}\")"
      ]
    },
    {
      "cell_type": "code",
      "execution_count": 11,
      "id": "JbXJARFplmOV",
      "metadata": {
        "colab": {
          "base_uri": "https://localhost:8080/"
        },
        "id": "JbXJARFplmOV",
        "outputId": "7af1cc83-908f-430d-a5d0-fb464dfd0d21"
      },
      "outputs": [
        {
          "data": {
            "text/plain": [
              "{'reqTime': '11-09-2024-15-27-53-266099',\n",
              " 'id': '6993397a705211efb0cc0a42ebec0af9',\n",
              " 'userId': 92157,\n",
              " 'solution': [1, 1, 0, 0, 1, 0, 1, 0, 0, 1],\n",
              " 'objval': -12.0,\n",
              " 'solverRunningTime': 1.0011045932769775}"
            ]
          },
          "execution_count": 11,
          "metadata": {},
          "output_type": "execute_result"
        }
      ],
      "source": [
        "results.solution_options[\"raw_results\"]"
      ]
    }
  ],
  "metadata": {
    "colab": {
      "provenance": []
    },
    "kernelspec": {
      "display_name": "Python 3 (ipykernel)",
      "language": "python",
      "name": "python3"
    },
    "language_info": {
      "codemirror_mode": {
        "name": "ipython",
        "version": 3
      },
      "file_extension": ".py",
      "mimetype": "text/x-python",
      "name": "python",
      "nbconvert_exporter": "python",
      "pygments_lexer": "ipython3",
      "version": "3.10.8"
    }
  },
  "nbformat": 4,
  "nbformat_minor": 5
}
