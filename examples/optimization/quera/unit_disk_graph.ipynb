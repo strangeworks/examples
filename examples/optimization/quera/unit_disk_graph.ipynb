{
 "cells": [
  {
   "cell_type": "markdown",
   "metadata": {},
   "source": [
    "<a href=\"https://colab.research.google.com/github/strangeworks/examples/blob/master/examples/optimization/quera/unit_disk_graph.ipynb\"><img src=\"https://colab.research.google.com/assets/colab-badge.svg\" /></a>"
   ]
  },
  {
   "cell_type": "markdown",
   "metadata": {},
   "source": [
    "# Installation"
   ]
  },
  {
   "cell_type": "code",
   "execution_count": null,
   "metadata": {},
   "outputs": [],
   "source": [
    "%pip install -q -U pip && pip install -q strangeworks-optimization"
   ]
  },
  {
   "cell_type": "markdown",
   "metadata": {},
   "source": [
    "## Authentication"
   ]
  },
  {
   "cell_type": "markdown",
   "metadata": {},
   "source": [
    "### Google Colab\n",
    "\n",
    "If running in Google Colab first set your API token as a secret environment variable in Colab. You can do this by clicking on the key icon on the left, then adding a key called `STRANGEWORKS_API_KEY` with your API token as the value.\n",
    "\n",
    "Then, run the cell below to authenticate."
   ]
  },
  {
   "cell_type": "code",
   "execution_count": 2,
   "metadata": {},
   "outputs": [],
   "source": [
    "import strangeworks as sw\n",
    "from google.colab import userdata\n",
    "\n",
    "api_key = userdata.get('STRANGEWORKS_API_KEY')\n",
    "sw.authenticate(api_key)"
   ]
  },
  {
   "cell_type": "markdown",
   "metadata": {},
   "source": [
    "### Local\n",
    "\n",
    "If running locally, you can save your API token in a dotenv file. Create a file called `.env` in the same directory as this notebook and add the following line to the file:\n",
    "\n",
    "```\n",
    "STRANGEWORKS_API_KEY=your_api_token\n",
    "```\n",
    "\n",
    "Then, run the cell below to authenticate."
   ]
  },
  {
   "cell_type": "code",
   "execution_count": 2,
   "metadata": {},
   "outputs": [],
   "source": [
    "# %pip install python-dotenv\n",
    "# import strangeworks as sw\n",
    "# import os\n",
    "# from dotenv import load_dotenv\n",
    "\n",
    "# load_dotenv()\n",
    "# api_key = os.getenv(\"STRANGEWORKS_API_KEY\")\n",
    "# sw.authenticate(api_key)"
   ]
  },
  {
   "cell_type": "markdown",
   "metadata": {},
   "source": [
    "# Unit Disk Graph\n",
    "\n",
    "Aquila is also compatible with the [Strangeworks Optimization Service](https://docs.strangeworks.com/optimization), where it can be used to solve unit disk graph (UDG) problems.\n",
    "\n",
    "A unit disk graph is a type of geometric graph where each vertex represents a disk of unit radius in a plane, and there is an edge between two vertices if and only if their corresponding disks intersect or overlap. This method of graph construction is often used in wireless networking to model the possible connections between nodes (such as transmitters or devices) with limited communication range."
   ]
  },
  {
   "cell_type": "code",
   "execution_count": 1,
   "metadata": {},
   "outputs": [],
   "source": [
    "from strangeworks_optimization import StrangeworksOptimizer\n",
    "import numpy as np\n",
    "from strangeworks_optimization_models.problem_models import AquilaNDArray\n",
    "from strangeworks_optimization_models.parameter_models import AquilaParameterModel\n",
    "import networkx as nx\n",
    "import matplotlib.pyplot as plt"
   ]
  },
  {
   "cell_type": "code",
   "execution_count": 13,
   "metadata": {},
   "outputs": [],
   "source": [
    "def plot_graph(model):\n",
    "    G = nx.Graph()\n",
    "\n",
    "    for i, (x, y) in enumerate(model.data):\n",
    "        G.add_node(i, pos=(x, y))\n",
    "\n",
    "    # Add edges based on unit disk radius\n",
    "    unit_disk_radius = 1.68\n",
    "    for i in range(len(model.data)):\n",
    "        for j in range(i + 1, len(model.data)):\n",
    "            if np.linalg.norm(model.data[i] - model.data[j]) <= unit_disk_radius:\n",
    "                G.add_edge(i, j)\n",
    "\n",
    "    pos = nx.get_node_attributes(G, 'pos')\n",
    "    nx.draw(G, pos, with_labels=True, node_color='lightblue', node_size=500, font_size=10, font_weight='bold')\n",
    "    plt.show()\n",
    "\n",
    "def plot_solution(model, results, unit_disk_radius):\n",
    "    dist = np.sqrt((model[:, 0] - model[:, 0, None]) ** 2 + (model[:, 1] - model[:, 1, None]) ** 2)\n",
    "    G = nx.relabel.convert_node_labels_to_integers(nx.Graph(dist < unit_disk_radius))\n",
    "    G.remove_edges_from(nx.selfloop_edges(G))\n",
    "\n",
    "    mis_solutions = []\n",
    "    for solution in results.solution:\n",
    "        bitstring = np.array(solution)\n",
    "        inds = np.nonzero(bitstring == 0)[0]\n",
    "        if inds.size:\n",
    "            inds2 = nx.maximal_independent_set(nx.subgraph(G, inds), seed=0)\n",
    "            payload = np.ones(len(bitstring))\n",
    "            payload[inds2] = 0\n",
    "            mis_solutions.append(payload)\n",
    "\n",
    "    best_sol = mis_solutions[np.argmax(np.sum(1 - np.asarray(mis_solutions), axis=1))]\n",
    "    seqs_color = [\"#BDEE9B\" if best_sol[j] == 0 else \"#408EA5\" for j in range(len(best_sol))]\n",
    "\n",
    "    fig, pos_dict = plt.figure(figsize=(8, 5)), {a: model[a] for a in range(model.shape[0])}\n",
    "    nx.draw_networkx_edges(G, pos_dict, width=10 / np.sqrt(len(G.nodes)), edge_color=\"#CE0074\")\n",
    "    nx.draw_networkx_nodes(G, pos_dict, node_size=1225 / np.sqrt(len(G.nodes)), node_color=seqs_color)\n",
    "    fig.set_facecolor(\"#00000F\")\n",
    "    plt.show()"
   ]
  },
  {
   "cell_type": "markdown",
   "metadata": {},
   "source": [
    "## Define the model"
   ]
  },
  {
   "cell_type": "code",
   "execution_count": 15,
   "metadata": {},
   "outputs": [
    {
     "data": {
      "image/png": "[encoded data removed]",
      "text/plain": [
       "<Figure size 640x480 with 1 Axes>"
      ]
     },
     "metadata": {},
     "output_type": "display_data"
    }
   ],
   "source": [
    "model = AquilaNDArray(np.array([[1, 2], [0, 0], [1, 0], [1, 1], [2, 0], [2, 1]]))\n",
    "\n",
    "unit_disk_radius = 1.68\n",
    "shots = 100\n",
    "options = AquilaParameterModel(unit_disk_radius=unit_disk_radius, shots=shots)\n",
    "\n",
    "plot_graph(model)"
   ]
  },
  {
   "cell_type": "markdown",
   "metadata": {},
   "source": [
    "## Optimization"
   ]
  },
  {
   "cell_type": "code",
   "execution_count": 3,
   "metadata": {},
   "outputs": [
    {
     "name": "stdout",
     "output_type": "stream",
     "text": [
      "Job slug: fragrant-flame-5286\n"
     ]
    }
   ],
   "source": [
    "solver = \"braket.aquila\"\n",
    "\n",
    "so = StrangeworksOptimizer(\n",
    "    model=model, \n",
    "    solver=solver, \n",
    "    options=options)\n",
    "sw_job = so.run()\n",
    "\n",
    "print(f\"Job slug: {sw_job.slug}\")"
   ]
  },
  {
   "cell_type": "code",
   "execution_count": 3,
   "metadata": {},
   "outputs": [],
   "source": [
    "# results = StrangeworksOptimizer().results(\"\")\n",
    "\n",
    "results = so.results(sw_job.slug)"
   ]
  },
  {
   "cell_type": "code",
   "execution_count": 14,
   "metadata": {},
   "outputs": [
    {
     "data": {
      "image/png": "[encoded data removed]",
      "text/plain": [
       "<Figure size 800x500 with 1 Axes>"
      ]
     },
     "metadata": {},
     "output_type": "display_data"
    }
   ],
   "source": [
    "plot_solution(model.data, results, unit_disk_radius=unit_disk_radius)"
   ]
  }
 ],
 "metadata": {
  "kernelspec": {
   "display_name": "Python 3",
   "language": "python",
   "name": "python3"
  },
  "language_info": {
   "codemirror_mode": {
    "name": "ipython",
    "version": 3
   },
   "file_extension": ".py",
   "mimetype": "text/x-python",
   "name": "python",
   "nbconvert_exporter": "python",
   "pygments_lexer": "ipython3",
   "version": "3.10.8"
  }
 },
 "nbformat": 4,
 "nbformat_minor": 2
}
