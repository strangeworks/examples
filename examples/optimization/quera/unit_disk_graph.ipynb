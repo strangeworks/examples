{
 "cells": [
  {
   "cell_type": "markdown",
   "metadata": {},
   "source": [
    "<a href=\"https://colab.research.google.com/github/strangeworks/examples/blob/master/examples/optimization/quera/unit_disk_graph.ipynb\"><img src=\"https://colab.research.google.com/assets/colab-badge.svg\" /></a>"
   ]
  },
  {
   "cell_type": "markdown",
   "metadata": {},
   "source": [
    "# Installation"
   ]
  },
  {
   "cell_type": "code",
   "execution_count": null,
   "metadata": {},
   "outputs": [],
   "source": [
    "%pip install -q -U pip && pip install -q strangeworks-optimization"
   ]
  },
  {
   "cell_type": "markdown",
   "metadata": {},
   "source": [
    "## Authentication"
   ]
  },
  {
   "cell_type": "markdown",
   "metadata": {},
   "source": [
    "### Google Colab\n",
    "\n",
    "If running in Google Colab first set your API token as a secret environment variable in Colab. You can do this by clicking on the key icon on the left, then adding a key called `STRANGEWORKS_API_KEY` with your API token as the value.\n",
    "\n",
    "Then, run the cell below to authenticate."
   ]
  },
  {
   "cell_type": "code",
   "execution_count": 2,
   "metadata": {},
   "outputs": [],
   "source": [
    "import strangeworks as sw\n",
    "from google.colab import userdata\n",
    "\n",
    "api_key = userdata.get('STRANGEWORKS_API_KEY')\n",
    "sw.authenticate(api_key)"
   ]
  },
  {
   "cell_type": "markdown",
   "metadata": {},
   "source": [
    "### Local\n",
    "\n",
    "If running locally, you can save your API token in a dotenv file. Create a file called `.env` in the same directory as this notebook and add the following line to the file:\n",
    "\n",
    "```\n",
    "STRANGEWORKS_API_KEY=your_api_token\n",
    "```\n",
    "\n",
    "Then, run the cell below to authenticate."
   ]
  },
  {
   "cell_type": "code",
   "execution_count": 1,
   "metadata": {},
   "outputs": [],
   "source": [
    "# %pip install python-dotenv\n",
    "# import strangeworks as sw\n",
    "# import os\n",
    "# from dotenv import load_dotenv\n",
    "\n",
    "# load_dotenv()\n",
    "# api_key = os.getenv(\"STRANGEWORKS_API_KEY\")\n",
    "# sw.authenticate(api_key)"
   ]
  },
  {
   "cell_type": "markdown",
   "metadata": {},
   "source": [
    "# Unit Disk Graph\n",
    "\n",
    "Aquila is also compatible with the [Strangeworks Optimization Service](https://docs.strangeworks.com/optimization), where it can be used to solve unit disk graph (UDG) problems.\n",
    "\n",
    "A unit disk graph is a type of geometric graph where each vertex represents a disk of unit radius in a plane, and there is an edge between two vertices if and only if their corresponding disks intersect or overlap. This method of graph construction is often used in wireless networking to model the possible connections between nodes (such as transmitters or devices) with limited communication range."
   ]
  },
  {
   "cell_type": "code",
   "execution_count": 2,
   "metadata": {},
   "outputs": [],
   "source": [
    "from strangeworks_optimization import StrangeworksOptimizer\n",
    "import numpy as np\n",
    "from strangeworks_optimization_models.problem_models import AquilaNDArray\n",
    "from strangeworks_optimization_models.parameter_models import AquilaParameterModel"
   ]
  },
  {
   "cell_type": "code",
   "execution_count": 3,
   "metadata": {},
   "outputs": [
    {
     "name": "stdout",
     "output_type": "stream",
     "text": [
      "Job slug: fragrant-flame-5286\n"
     ]
    }
   ],
   "source": [
    "model = AquilaNDArray(np.array([[1, 2], [0, 0], [1, 0], [1, 1], [2, 0], [2, 1]]))\n",
    "options = AquilaParameterModel(unit_disk_radius=1.68, shots=100)\n",
    "solver = \"braket.aquila\"\n",
    "\n",
    "so = StrangeworksOptimizer(\n",
    "    model=model, \n",
    "    solver=solver, \n",
    "    options=options)\n",
    "sw_job = so.run()\n",
    "\n",
    "print(f\"Job slug: {sw_job.slug}\")"
   ]
  },
  {
   "cell_type": "code",
   "execution_count": 4,
   "metadata": {},
   "outputs": [],
   "source": [
    "results = so.results(sw_job.slug)"
   ]
  }
 ],
 "metadata": {
  "kernelspec": {
   "display_name": "Python 3",
   "language": "python",
   "name": "python3"
  },
  "language_info": {
   "codemirror_mode": {
    "name": "ipython",
    "version": 3
   },
   "file_extension": ".py",
   "mimetype": "text/x-python",
   "name": "python",
   "nbconvert_exporter": "python",
   "pygments_lexer": "ipython3",
   "version": "3.10.8"
  }
 },
 "nbformat": 4,
 "nbformat_minor": 2
}
