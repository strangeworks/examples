{
 "cells": [
  {
   "cell_type": "markdown",
   "id": "5bde9b57",
   "metadata": {},
   "source": [
    "<a href=\"https://colab.research.google.com/github/strangeworks/examples/blob/master/examples/optimization.ipynb\"><img src=\"https://colab.research.google.com/assets/colab-badge.svg\" /></a>"
   ]
  },
  {
   "cell_type": "markdown",
   "id": "a3d6df44",
   "metadata": {},
   "source": [
    "# Installation"
   ]
  },
  {
   "cell_type": "code",
   "execution_count": null,
   "id": "75cb286a",
   "metadata": {},
   "outputs": [],
   "source": [
    "%pip install -q -U pip && pip install -q strangeworks-optimization"
   ]
  },
  {
   "cell_type": "markdown",
   "id": "cba8c889",
   "metadata": {},
   "source": [
    "## Authentication\n",
    "\n",
    "Your API token can be found in the [portal](https://portal.strangeworks.com)."
   ]
  },
  {
   "cell_type": "markdown",
   "id": "6b3f7ff3",
   "metadata": {},
   "source": [
    "### Google Colab\n",
    "\n",
    "If running in Google Colab first set your API token as a secret environment variable in Colab. You can do this by clicking on the key icon on the left, then adding a key called `STRANGEWORKS_API_KEY` with your API token as the value.\n",
    "\n",
    "Then, run the cell below to authenticate."
   ]
  },
  {
   "cell_type": "code",
   "execution_count": 1,
   "id": "2ba5daae",
   "metadata": {},
   "outputs": [],
   "source": [
    "import strangeworks as sw\n",
    "from google.colab import userdata\n",
    "\n",
    "api_key = userdata.get('STRANGEWORKS_API_KEY')\n",
    "sw.authenticate(api_key)"
   ]
  },
  {
   "cell_type": "markdown",
   "id": "c70fee34",
   "metadata": {},
   "source": [
    "### Local\n",
    "\n",
    "If running locally, you can save your API token in a dotenv file. Create a file called `.env` in the same directory as this notebook and add the following line to the file:\n",
    "\n",
    "```\n",
    "STRANGEWORKS_API_KEY=your_api_token\n",
    "```\n",
    "\n",
    "Then, run the cell below to authenticate."
   ]
  },
  {
   "cell_type": "code",
   "execution_count": null,
   "id": "0b775db3",
   "metadata": {},
   "outputs": [],
   "source": [
    "# %pip install -q python-dotenv\n",
    "# import strangeworks as sw\n",
    "# import os\n",
    "# from dotenv import load_dotenv\n",
    "\n",
    "# load_dotenv()\n",
    "# api_key = os.getenv(\"STRANGEWORKS_API_KEY\")\n",
    "# sw.authenticate(api_key)"
   ]
  },
  {
   "cell_type": "markdown",
   "id": "8502d7b6",
   "metadata": {},
   "source": [
    "# StrangeworksOptimizer\n",
    "\n",
    "We implement our own Optimization class called `StrangeworksOptimizer`.\n",
    "`StrangeworksOptimizer` provides the full functionality of the Strangeworks Optimization Service."
   ]
  },
  {
   "cell_type": "code",
   "execution_count": 2,
   "id": "c2166a54",
   "metadata": {},
   "outputs": [],
   "source": [
    "from strangeworks_optimization import StrangeworksOptimizer\n",
    "so = StrangeworksOptimizer()"
   ]
  },
  {
   "cell_type": "markdown",
   "id": "03367f1a",
   "metadata": {},
   "source": [
    "## Models\n",
    "\n",
    "The service accepts the following models:\n",
    "\n",
    "Standard:\n",
    "- `BinaryQuadraticModel` (all but Aquila)\n",
    "\n",
    "MPS:\n",
    "- `MPSFile` (Gurobi, Quantagonia)\n",
    "\n",
    "Solver Specific:\n",
    "- `ConstrainedQuadraticModel` (D-Wave)\n",
    "- `DiscreteQuadraticModel`(D-Wave)\n",
    "- `QuboDict` (NEC)\n",
    "- `HitachiModelList` (Hitachi)\n",
    "- `FujitsuModelList`(Fujitsu)\n",
    "- `JiJProblem` (JiJ)\n",
    "- `AquilaNDArray` (Aquila)\n",
    "\n",
    "[`dimod`](https://docs.ocean.dwavesys.com/en/stable/docs_dimod/) provides a shared API for samplers and we default to using `BinaryQuadraticModel` to store and represent QUBO problems.\n",
    "\n",
    "Here is a simple QUBO problem defined by linear and quadratic terms. The linear terms are a dictionary where the keys are the variables and the values are the linear coefficients. The quadratic terms are a dictionary where the keys are the pairs of variables and the values are the quadratic coefficients. The BinaryQuadraticModel class is used to create the QUBO problem."
   ]
  },
  {
   "cell_type": "code",
   "execution_count": 3,
   "id": "4f077f13",
   "metadata": {},
   "outputs": [],
   "source": [
    "from dimod import BinaryQuadraticModel\n",
    "\n",
    "linear = {1: -2, 2: -2, 3: -3, 4: -3, 5: -2}\n",
    "quadratic = {(1, 2): 2, (1, 3): 2, (2, 4): 2, (3, 4): 2, (3, 5): 2, (4, 5): 2}\n",
    "model = BinaryQuadraticModel(linear, quadratic, \"BINARY\")"
   ]
  },
  {
   "cell_type": "markdown",
   "id": "f3d86f23",
   "metadata": {},
   "source": [
    "## Solvers\n",
    "\n",
    "The solver name usually follows the convention of `provider-id.backend-name`.\n",
    "\n",
    "You can determine which solver `backends` are available to you through our platform. Check it out."
   ]
  },
  {
   "cell_type": "code",
   "execution_count": 4,
   "id": "137aa348",
   "metadata": {},
   "outputs": [
    {
     "name": "stdout",
     "output_type": "stream",
     "text": [
      "[Backend(id='MzFiNTA4NWQtNDBkMi00YjEzLTg5ZjYtZmNmMjRlMjQxMDYz',\n",
      "         data={},\n",
      "         data_schema='',\n",
      "         name='dwave.hybrid_binary_quadratic_model_version2p',\n",
      "         remote_backend_id='hybrid_binary_quadratic_model_version2p',\n",
      "         remote_status='ONLINE',\n",
      "         slug='c3zfoarsv'),\n",
      " Backend(id='MzcwMWYxOGQtODEzOS00MWM2LWIwOGUtMThhMTI4NzhjZmJm',\n",
      "         data={},\n",
      "         data_schema='',\n",
      "         name='dwave.Advantage2_prototype2.2',\n",
      "         remote_backend_id='Advantage2_prototype2.2',\n",
      "         remote_status=None,\n",
      "         slug='mhm44b6t3'),\n",
      " Backend(id='NDYxYzJmNjAtNTk2NC00N2M5LTliNDgtMDg2YzFkMjgxMTEy',\n",
      "         data={},\n",
      "         data_schema='',\n",
      "         name='dwave.Advantage2_prototype1.1',\n",
      "         remote_backend_id='Advantage2_prototype1.1',\n",
      "         remote_status='ONLINE',\n",
      "         slug='3wj1kt2as'),\n",
      " Backend(id='NWJhY2Q0NjctOTJjNS00ZTBmLWE5MzUtODhlNDJjODZhZDI1',\n",
      "         data={},\n",
      "         data_schema='',\n",
      "         name='dwave.Advantage_system6.3',\n",
      "         remote_backend_id='Advantage_system6.3',\n",
      "         remote_status='ONLINE',\n",
      "         slug='rszl2vtth'),\n",
      " Backend(id='OTNjNmU2M2EtNmFhMS00NjUyLTkyNGYtODQzYzcyNDdkYzVl',\n",
      "         data={},\n",
      "         data_schema='',\n",
      "         name='dwave.hybrid_discrete_quadratic_model_version1p',\n",
      "         remote_backend_id='hybrid_discrete_quadratic_model_version1p',\n",
      "         remote_status='ONLINE',\n",
      "         slug='0mnieue9d'),\n",
      " Backend(id='YWY3ZjFkYmItNDcxZS00MWFmLWIwNjEtZmY0MjNlNWNlZThi',\n",
      "         data={},\n",
      "         data_schema='',\n",
      "         name='dwave.Advantage_system4.1',\n",
      "         remote_backend_id='Advantage_system4.1',\n",
      "         remote_status='ONLINE',\n",
      "         slug='4x4ug5vqb'),\n",
      " Backend(id='YjRiZTYxZDMtZTIyZS00OTZiLTlhZTUtZjdjOGRjMGZlNzlk',\n",
      "         data={},\n",
      "         data_schema='',\n",
      "         name='dwave.hybrid_constrained_quadratic_model_version1p',\n",
      "         remote_backend_id='hybrid_constrained_quadratic_model_version1p',\n",
      "         remote_status='ONLINE',\n",
      "         slug='sx7founxf'),\n",
      " Backend(id='MkZFOUJBNDYtMTZCQS00MDY3LThGNjgtMDc0NDU5NDAwREZD',\n",
      "         data={},\n",
      "         data_schema='',\n",
      "         name='hitachi.cmos_annealer',\n",
      "         remote_backend_id='cmos_annealer',\n",
      "         remote_status='active',\n",
      "         slug='d4Zu2hraJ'),\n",
      " Backend(id='NjVhM2JiNzEtNTNmOC0xMWVlLWEwMjYtNDIwMTBhODAwMDEx',\n",
      "         data={},\n",
      "         data_schema='',\n",
      "         name='quantagonia.qubo',\n",
      "         remote_backend_id='21d25aa61a154d8ea39b8905b9af4305',\n",
      "         remote_status='active',\n",
      "         slug='2J8oGUKQz'),\n",
      " Backend(id='YWI1YTYzODMtNTNmOC0xMWVlLWEwMjYtNDIwMTBhODAwMDEx',\n",
      "         data={},\n",
      "         data_schema='',\n",
      "         name='quantagonia.mps',\n",
      "         remote_backend_id='252e40a73f9244feb461de2aedbb9802',\n",
      "         remote_status='active',\n",
      "         slug='4qKy4kBiN')]\n"
     ]
    }
   ],
   "source": [
    "backends = optimizer.backends()\n",
    "\n",
    "from pprint import pprint\n",
    "pprint(backends)"
   ]
  },
  {
   "cell_type": "markdown",
   "id": "79c46d12",
   "metadata": {},
   "source": [
    "## Options\n",
    "\n",
    "Lets use the `hitachi.cmos_annealer` backend, we can set a number of [values](https://annealing-cloud.com/en/web-api/reference/v2.html) to submit with the solver.\n",
    "\n",
    "- `solver_type`: An integer value representing the type of solver.\n",
    "- `num_executions`: An integer value representing the number of executions. It defaults to 1 if not specified.\n",
    "- `temperature_num_steps`: An integer value representing the number of steps in the temperature. It defaults to 10 if not specified.\n",
    "- `temperature_step_length`: An integer value representing the length of each step in the temperature. It defaults to 100 if not specified.\n",
    "- `temperature_initial`: A float value representing the initial temperature. It defaults to 10.0 if not specified.\n",
    "- `temperature_target`: A float value representing the target temperature. It defaults to 0.01 if not specified.\n",
    "- `energies`: A boolean value indicating whether to include energies in the output. It defaults to True if not specified.\n",
    "spins: A boolean value indicating whether to include spins in the output. It defaults to True if not specified.\n",
    "-  `execution_time`: A boolean value indicating whether to include execution time in the output. It defaults to True if not specified.\n",
    "- `num_outputs`: An integer value representing the number of outputs. It defaults to 0 if not specified.\n",
    "- averaged_spins: A boolean value indicating whether to include averaged spins in the output. It defaults to False if not specified.\n",
    "- `averaged_energy`: A boolean value indicating whether to include averaged energy in the output. It defaults to False if not specified.\n",
    "\n",
    "[![Hitachi CMOS annealing machine](https://annealing-cloud.com/images/memory-cell-array-en.png)](https://annealing-cloud.com/en/about/cmos-annealing-machine.html)"
   ]
  },
  {
   "cell_type": "code",
   "execution_count": 5,
   "id": "4c055663",
   "metadata": {},
   "outputs": [],
   "source": [
    "solver = \"hitachi.cmos_annealer\"\n",
    "\n",
    "from strangeworks_optimization_models.parameter_models import HitachiParameterModel\n",
    "\n",
    "options = HitachiParameterModel(solver_type=5)"
   ]
  },
  {
   "cell_type": "markdown",
   "id": "ff906e48",
   "metadata": {},
   "source": [
    "## Running a job"
   ]
  },
  {
   "cell_type": "code",
   "execution_count": null,
   "id": "3404f1c7",
   "metadata": {},
   "outputs": [],
   "source": [
    "tags = [\"foo\", \"bar\"]\n",
    "so = StrangeworksOptimizer(model=model, solver=solver, options=options, tags=tags)\n",
    "sw_job = so.run()\n",
    "print(f\"Job slug: {sw_job.slug}\")"
   ]
  },
  {
   "cell_type": "markdown",
   "id": "0ae412c6",
   "metadata": {},
   "source": [
    "## Status"
   ]
  },
  {
   "cell_type": "code",
   "execution_count": 7,
   "id": "7362cf72",
   "metadata": {},
   "outputs": [
    {
     "name": "stdout",
     "output_type": "stream",
     "text": [
      "Job status: CREATED\n"
     ]
    }
   ],
   "source": [
    "print(f\"Job status: {so.status(sw_job.slug)}\")"
   ]
  },
  {
   "cell_type": "markdown",
   "id": "9502d150",
   "metadata": {},
   "source": [
    "## Results"
   ]
  },
  {
   "cell_type": "code",
   "execution_count": 8,
   "id": "5974c3b9",
   "metadata": {},
   "outputs": [
    {
     "name": "stdout",
     "output_type": "stream",
     "text": [
      "Best solution:\n",
      "Sample(sample={1: 0, 2: 1, 3: 1, 4: 0, 5: 1}, energy=-5.0, num_occurrences=1)\n"
     ]
    }
   ],
   "source": [
    "results = so.results(sw_job.slug)\n",
    "print(f\"Best solution:\\n{results.solution.first}\")"
   ]
  }
 ],
 "metadata": {
  "kernelspec": {
   "display_name": "Python 3 (ipykernel)",
   "language": "python",
   "name": "python3"
  },
  "language_info": {
   "codemirror_mode": {
    "name": "ipython",
    "version": 3
   },
   "file_extension": ".py",
   "mimetype": "text/x-python",
   "name": "python",
   "nbconvert_exporter": "python",
   "pygments_lexer": "ipython3",
   "version": "3.10.8"
  }
 },
 "nbformat": 4,
 "nbformat_minor": 5
}
